{
  "nbformat": 4,
  "nbformat_minor": 0,
  "metadata": {
    "colab": {
      "provenance": [],
      "authorship_tag": "ABX9TyMXa6qsRMBbDu36qsxT/cMO",
      "include_colab_link": true
    },
    "kernelspec": {
      "name": "python3",
      "display_name": "Python 3"
    },
    "language_info": {
      "name": "python"
    }
  },
  "cells": [
    {
      "cell_type": "markdown",
      "metadata": {
        "id": "view-in-github",
        "colab_type": "text"
      },
      "source": [
        "<a href=\"https://colab.research.google.com/github/Chaymae-Elhilali/DLLFormula/blob/DontCommitToMaster/Testing_notebook.ipynb\" target=\"_parent\"><img src=\"https://colab.research.google.com/assets/colab-badge.svg\" alt=\"Open In Colab\"/></a>"
      ]
    },
    {
      "cell_type": "code",
      "execution_count": 1,
      "metadata": {
        "colab": {
          "base_uri": "https://localhost:8080/"
        },
        "id": "KEAY_hl8-V_P",
        "outputId": "075bf777-15ce-4831-ceee-66eaafb50517"
      },
      "outputs": [
        {
          "output_type": "stream",
          "name": "stdout",
          "text": [
            "Cloning into 'DLLFormula'...\n",
            "remote: Enumerating objects: 541, done.\u001b[K\n",
            "remote: Counting objects: 100% (416/416), done.\u001b[K\n",
            "remote: Compressing objects: 100% (380/380), done.\u001b[K\n",
            "remote: Total 541 (delta 80), reused 346 (delta 35), pack-reused 125\u001b[K\n",
            "Receiving objects: 100% (541/541), 105.76 MiB | 19.82 MiB/s, done.\n",
            "Resolving deltas: 100% (137/137), done.\n",
            "Updating files: 100% (296/296), done.\n"
          ]
        }
      ],
      "source": [
        "!git clone https://github.com/Chaymae-Elhilali/DLLFormula.git"
      ]
    },
    {
      "cell_type": "code",
      "source": [
        "# from google.colab import drive\n",
        "# drive.mount('/content/drive')"
      ],
      "metadata": {
        "colab": {
          "base_uri": "https://localhost:8080/"
        },
        "id": "-U8ObjuLKv2P",
        "outputId": "25851254-de2d-4513-f395-276afd20410b"
      },
      "execution_count": null,
      "outputs": [
        {
          "output_type": "stream",
          "name": "stdout",
          "text": [
            "Mounted at /content/drive\n"
          ]
        }
      ]
    },
    {
      "cell_type": "markdown",
      "source": [
        "\n",
        "\n",
        "---\n",
        "\n",
        "\n",
        "**Video To Frames**\n",
        "\n"
      ],
      "metadata": {
        "id": "PF3B09JjKzPY"
      }
    },
    {
      "cell_type": "code",
      "source": [
        "!pip install --upgrade opencv-python\n",
        "\n",
        "!pip install opencv-python moviepy\n",
        "\n",
        "!pip install scipy"
      ],
      "metadata": {
        "id": "wgmVsOCFLAkf",
        "colab": {
          "base_uri": "https://localhost:8080/"
        },
        "outputId": "57164c0a-1059-41a4-87bd-e14ce2591fd1"
      },
      "execution_count": 2,
      "outputs": [
        {
          "output_type": "stream",
          "name": "stdout",
          "text": [
            "Requirement already satisfied: opencv-python in /usr/local/lib/python3.10/dist-packages (4.7.0.72)\n",
            "Collecting opencv-python\n",
            "  Downloading opencv_python-4.8.0.74-cp37-abi3-manylinux_2_17_x86_64.manylinux2014_x86_64.whl (61.7 MB)\n",
            "\u001b[2K     \u001b[90m━━━━━━━━━━━━━━━━━━━━━━━━━━━━━━━━━━━━━━━━\u001b[0m \u001b[32m61.7/61.7 MB\u001b[0m \u001b[31m9.5 MB/s\u001b[0m eta \u001b[36m0:00:00\u001b[0m\n",
            "\u001b[?25hRequirement already satisfied: numpy>=1.21.2 in /usr/local/lib/python3.10/dist-packages (from opencv-python) (1.22.4)\n",
            "Installing collected packages: opencv-python\n",
            "  Attempting uninstall: opencv-python\n",
            "    Found existing installation: opencv-python 4.7.0.72\n",
            "    Uninstalling opencv-python-4.7.0.72:\n",
            "      Successfully uninstalled opencv-python-4.7.0.72\n",
            "Successfully installed opencv-python-4.8.0.74\n",
            "Requirement already satisfied: opencv-python in /usr/local/lib/python3.10/dist-packages (4.8.0.74)\n",
            "Requirement already satisfied: moviepy in /usr/local/lib/python3.10/dist-packages (1.0.3)\n",
            "Requirement already satisfied: numpy>=1.21.2 in /usr/local/lib/python3.10/dist-packages (from opencv-python) (1.22.4)\n",
            "Requirement already satisfied: decorator<5.0,>=4.0.2 in /usr/local/lib/python3.10/dist-packages (from moviepy) (4.4.2)\n",
            "Requirement already satisfied: tqdm<5.0,>=4.11.2 in /usr/local/lib/python3.10/dist-packages (from moviepy) (4.65.0)\n",
            "Requirement already satisfied: requests<3.0,>=2.8.1 in /usr/local/lib/python3.10/dist-packages (from moviepy) (2.27.1)\n",
            "Requirement already satisfied: proglog<=1.0.0 in /usr/local/lib/python3.10/dist-packages (from moviepy) (0.1.10)\n",
            "Requirement already satisfied: imageio<3.0,>=2.5 in /usr/local/lib/python3.10/dist-packages (from moviepy) (2.25.1)\n",
            "Requirement already satisfied: imageio-ffmpeg>=0.2.0 in /usr/local/lib/python3.10/dist-packages (from moviepy) (0.4.8)\n",
            "Requirement already satisfied: pillow>=8.3.2 in /usr/local/lib/python3.10/dist-packages (from imageio<3.0,>=2.5->moviepy) (9.4.0)\n",
            "Requirement already satisfied: urllib3<1.27,>=1.21.1 in /usr/local/lib/python3.10/dist-packages (from requests<3.0,>=2.8.1->moviepy) (1.26.16)\n",
            "Requirement already satisfied: certifi>=2017.4.17 in /usr/local/lib/python3.10/dist-packages (from requests<3.0,>=2.8.1->moviepy) (2023.7.22)\n",
            "Requirement already satisfied: charset-normalizer~=2.0.0 in /usr/local/lib/python3.10/dist-packages (from requests<3.0,>=2.8.1->moviepy) (2.0.12)\n",
            "Requirement already satisfied: idna<4,>=2.5 in /usr/local/lib/python3.10/dist-packages (from requests<3.0,>=2.8.1->moviepy) (3.4)\n",
            "Requirement already satisfied: scipy in /usr/local/lib/python3.10/dist-packages (1.10.1)\n",
            "Requirement already satisfied: numpy<1.27.0,>=1.19.5 in /usr/local/lib/python3.10/dist-packages (from scipy) (1.22.4)\n"
          ]
        }
      ]
    },
    {
      "cell_type": "code",
      "source": [
        "!python3 /content/DLLFormula/extract_frames.py /content/DLLFormula/data/uniforme.mp4 #path_to_video"
      ],
      "metadata": {
        "id": "sNesI73JLjw0",
        "colab": {
          "base_uri": "https://localhost:8080/"
        },
        "outputId": "d1af7630-1b96-4e76-d1c8-1932cab3c9a8"
      },
      "execution_count": 3,
      "outputs": [
        {
          "output_type": "stream",
          "name": "stdout",
          "text": [
            "filename is uniforme\n",
            "the new filename is uniforme\n",
            "output_directory is /content/DLLFormula/data/output_frames/uniforme\n",
            "Traceback (most recent call last):\n",
            "  File \"/content/DLLFormula/extract_frames.py\", line 94, in <module>\n",
            "    main(video_file)\n",
            "  File \"/content/DLLFormula/extract_frames.py\", line 86, in main\n",
            "    remove_doubles.remove_doubles(filename)\n",
            "  File \"/content/DLLFormula/remove_doubles.py\", line 19, in remove_doubles\n",
            "    os.chdir(directory)\n",
            "FileNotFoundError: [Errno 2] No such file or directory: '/content/data/output_frames/uniforme'\n"
          ]
        }
      ]
    },
    {
      "cell_type": "markdown",
      "source": [
        "### ***Check results at /content/DLLFormula/data/output_frames***"
      ],
      "metadata": {
        "id": "nKFDyi31JKNt"
      }
    },
    {
      "cell_type": "code",
      "source": [
        "#code to delete something:\n",
        "\n",
        "# import os\n",
        "# # Replace 'your_folder_path' with the actual path of the folder you want to delete.\n",
        "# folder_path = '/content/DLLFormula/datasets/runs/boxes/EQ'\n",
        "# if os.path.exists(folder_path):\n",
        "#     # Use the 'shutil.rmtree()' function to recursively remove the folder and its content.\n",
        "#     import shutil\n",
        "#     shutil.rmtree(folder_path)"
      ],
      "metadata": {
        "id": "b2J_wewJuZiX"
      },
      "execution_count": null,
      "outputs": []
    },
    {
      "cell_type": "markdown",
      "source": [
        "\n",
        "\n",
        "---\n",
        "**Detection**\n"
      ],
      "metadata": {
        "id": "tOD9QP5KLCGv"
      }
    },
    {
      "cell_type": "code",
      "source": [
        "#if it takes too much time try again\n",
        "import os\n",
        "import sys\n",
        "\n",
        "# Check if running on Colab or locally\n",
        "if \"google.colab\" in sys.modules:\n",
        "    base_directory = \"/content/DLLFormula\"\n",
        "else:\n",
        "    base_directory = \"./DLLFormula\"\n",
        "\n",
        "# Create the DLLFormula directory if it doesn't exist\n",
        "if not os.path.isdir(base_directory):\n",
        "    os.makedirs(base_directory)\n",
        "os.chdir(base_directory)\n",
        "\n",
        "# Now continue with the rest of the code to create \"formula-detector-9\" inside DLLFormula\n",
        "!pip install ultralytics==8.0.20\n",
        "\n",
        "from IPython import display\n",
        "display.clear_output()\n",
        "\n",
        "import ultralytics\n",
        "ultralytics.checks()\n",
        "\n",
        "from ultralytics import YOLO\n",
        "from IPython.display import display, Image\n",
        "\n",
        "# Create the datasets directory inside DLLFormula\n",
        "datasets_directory = os.path.join(base_directory, \"datasets\")\n",
        "if not os.path.isdir(datasets_directory):\n",
        "    os.makedirs(datasets_directory)\n",
        "\n",
        "%cd {datasets_directory}\n",
        "\n",
        "!pip install roboflow\n",
        "\n",
        "from roboflow import Roboflow\n",
        "rf = Roboflow(api_key=\"6JdS3fk367XrDxgtvhiS\")\n",
        "project = rf.workspace(\"um6p-ts7fh\").project(\"formula-detector-egybi\")\n",
        "dataset = project.version(9).download(\"yolov8\")\n"
      ],
      "metadata": {
        "id": "35wnUSWditXl",
        "colab": {
          "base_uri": "https://localhost:8080/",
          "height": 1000
        },
        "outputId": "6e783353-573f-4d22-8a4e-582f03725eca"
      },
      "execution_count": null,
      "outputs": [
        {
          "output_type": "stream",
          "name": "stderr",
          "text": [
            "Ultralytics YOLOv8.0.20 🚀 Python-3.10.6 torch-2.0.1+cu118 CPU\n",
            "Setup complete ✅ (2 CPUs, 12.7 GB RAM, 25.3/107.7 GB disk)\n"
          ]
        },
        {
          "output_type": "stream",
          "name": "stdout",
          "text": [
            "/content/DLLFormula/datasets\n",
            "Collecting roboflow\n",
            "  Downloading roboflow-1.1.1-py3-none-any.whl (57 kB)\n",
            "\u001b[2K     \u001b[90m━━━━━━━━━━━━━━━━━━━━━━━━━━━━━━━━━━━━━━━━\u001b[0m \u001b[32m57.4/57.4 kB\u001b[0m \u001b[31m1.3 MB/s\u001b[0m eta \u001b[36m0:00:00\u001b[0m\n",
            "\u001b[?25hCollecting certifi==2022.12.7 (from roboflow)\n",
            "  Downloading certifi-2022.12.7-py3-none-any.whl (155 kB)\n",
            "\u001b[2K     \u001b[90m━━━━━━━━━━━━━━━━━━━━━━━━━━━━━━━━━━━━━━━\u001b[0m \u001b[32m155.3/155.3 kB\u001b[0m \u001b[31m6.1 MB/s\u001b[0m eta \u001b[36m0:00:00\u001b[0m\n",
            "\u001b[?25hRequirement already satisfied: chardet==4.0.0 in /usr/local/lib/python3.10/dist-packages (from roboflow) (4.0.0)\n",
            "Collecting cycler==0.10.0 (from roboflow)\n",
            "  Downloading cycler-0.10.0-py2.py3-none-any.whl (6.5 kB)\n",
            "Collecting idna==2.10 (from roboflow)\n",
            "  Downloading idna-2.10-py2.py3-none-any.whl (58 kB)\n",
            "\u001b[2K     \u001b[90m━━━━━━━━━━━━━━━━━━━━━━━━━━━━━━━━━━━━━━━━\u001b[0m \u001b[32m58.8/58.8 kB\u001b[0m \u001b[31m6.4 MB/s\u001b[0m eta \u001b[36m0:00:00\u001b[0m\n",
            "\u001b[?25hRequirement already satisfied: kiwisolver>=1.3.1 in /usr/local/lib/python3.10/dist-packages (from roboflow) (1.4.4)\n",
            "Requirement already satisfied: matplotlib in /usr/local/lib/python3.10/dist-packages (from roboflow) (3.7.1)\n",
            "Requirement already satisfied: numpy>=1.18.5 in /usr/local/lib/python3.10/dist-packages (from roboflow) (1.22.4)\n",
            "Requirement already satisfied: opencv-python>=4.1.2 in /usr/local/lib/python3.10/dist-packages (from roboflow) (4.8.0.74)\n",
            "Requirement already satisfied: Pillow>=7.1.2 in /usr/local/lib/python3.10/dist-packages (from roboflow) (8.4.0)\n",
            "Collecting pyparsing==2.4.7 (from roboflow)\n",
            "  Downloading pyparsing-2.4.7-py2.py3-none-any.whl (67 kB)\n",
            "\u001b[2K     \u001b[90m━━━━━━━━━━━━━━━━━━━━━━━━━━━━━━━━━━━━━━━━\u001b[0m \u001b[32m67.8/67.8 kB\u001b[0m \u001b[31m8.3 MB/s\u001b[0m eta \u001b[36m0:00:00\u001b[0m\n",
            "\u001b[?25hRequirement already satisfied: python-dateutil in /usr/local/lib/python3.10/dist-packages (from roboflow) (2.8.2)\n",
            "Collecting python-dotenv (from roboflow)\n",
            "  Downloading python_dotenv-1.0.0-py3-none-any.whl (19 kB)\n",
            "Requirement already satisfied: requests in /usr/local/lib/python3.10/dist-packages (from roboflow) (2.27.1)\n",
            "Requirement already satisfied: six in /usr/local/lib/python3.10/dist-packages (from roboflow) (1.16.0)\n",
            "Collecting supervision (from roboflow)\n",
            "  Downloading supervision-0.11.1-py3-none-any.whl (55 kB)\n",
            "\u001b[2K     \u001b[90m━━━━━━━━━━━━━━━━━━━━━━━━━━━━━━━━━━━━━━━━\u001b[0m \u001b[32m55.6/55.6 kB\u001b[0m \u001b[31m7.0 MB/s\u001b[0m eta \u001b[36m0:00:00\u001b[0m\n",
            "\u001b[?25hRequirement already satisfied: urllib3>=1.26.6 in /usr/local/lib/python3.10/dist-packages (from roboflow) (1.26.16)\n",
            "Collecting wget (from roboflow)\n",
            "  Downloading wget-3.2.zip (10 kB)\n",
            "  Preparing metadata (setup.py) ... \u001b[?25l\u001b[?25hdone\n",
            "Requirement already satisfied: tqdm>=4.41.0 in /usr/local/lib/python3.10/dist-packages (from roboflow) (4.65.0)\n",
            "Requirement already satisfied: PyYAML>=5.3.1 in /usr/local/lib/python3.10/dist-packages (from roboflow) (6.0)\n",
            "Collecting requests-toolbelt (from roboflow)\n",
            "  Downloading requests_toolbelt-1.0.0-py2.py3-none-any.whl (54 kB)\n",
            "\u001b[2K     \u001b[90m━━━━━━━━━━━━━━━━━━━━━━━━━━━━━━━━━━━━━━━━\u001b[0m \u001b[32m54.5/54.5 kB\u001b[0m \u001b[31m6.7 MB/s\u001b[0m eta \u001b[36m0:00:00\u001b[0m\n",
            "\u001b[?25hRequirement already satisfied: contourpy>=1.0.1 in /usr/local/lib/python3.10/dist-packages (from matplotlib->roboflow) (1.1.0)\n",
            "Requirement already satisfied: fonttools>=4.22.0 in /usr/local/lib/python3.10/dist-packages (from matplotlib->roboflow) (4.41.0)\n",
            "Requirement already satisfied: packaging>=20.0 in /usr/local/lib/python3.10/dist-packages (from matplotlib->roboflow) (23.1)\n",
            "Requirement already satisfied: charset-normalizer~=2.0.0 in /usr/local/lib/python3.10/dist-packages (from requests->roboflow) (2.0.12)\n",
            "Building wheels for collected packages: wget\n",
            "  Building wheel for wget (setup.py) ... \u001b[?25l\u001b[?25hdone\n",
            "  Created wheel for wget: filename=wget-3.2-py3-none-any.whl size=9657 sha256=376dfdfbd2468f14fd9a2aee3ca7d75f171f046b330397c8d6f667506f7ec20b\n",
            "  Stored in directory: /root/.cache/pip/wheels/8b/f1/7f/5c94f0a7a505ca1c81cd1d9208ae2064675d97582078e6c769\n",
            "Successfully built wget\n",
            "Installing collected packages: wget, python-dotenv, pyparsing, idna, cycler, certifi, supervision, requests-toolbelt, roboflow\n",
            "  Attempting uninstall: pyparsing\n",
            "    Found existing installation: pyparsing 3.1.0\n",
            "    Uninstalling pyparsing-3.1.0:\n",
            "      Successfully uninstalled pyparsing-3.1.0\n",
            "  Attempting uninstall: idna\n",
            "    Found existing installation: idna 3.4\n",
            "    Uninstalling idna-3.4:\n",
            "      Successfully uninstalled idna-3.4\n",
            "  Attempting uninstall: cycler\n",
            "    Found existing installation: cycler 0.11.0\n",
            "    Uninstalling cycler-0.11.0:\n",
            "      Successfully uninstalled cycler-0.11.0\n",
            "  Attempting uninstall: certifi\n",
            "    Found existing installation: certifi 2023.5.7\n",
            "    Uninstalling certifi-2023.5.7:\n",
            "      Successfully uninstalled certifi-2023.5.7\n",
            "Successfully installed certifi-2022.12.7 cycler-0.10.0 idna-2.10 pyparsing-2.4.7 python-dotenv-1.0.0 requests-toolbelt-1.0.0 roboflow-1.1.1 supervision-0.11.1 wget-3.2\n"
          ]
        },
        {
          "output_type": "display_data",
          "data": {
            "application/vnd.colab-display-data+json": {
              "pip_warning": {
                "packages": [
                  "certifi",
                  "cycler",
                  "idna",
                  "pyparsing"
                ]
              }
            }
          },
          "metadata": {}
        },
        {
          "output_type": "stream",
          "name": "stdout",
          "text": [
            "loading Roboflow workspace...\n",
            "loading Roboflow project...\n",
            "Downloading Dataset Version Zip in Formula-detector-9 to yolov8: 95% [109608960 / 114847623] bytes"
          ]
        },
        {
          "output_type": "stream",
          "name": "stderr",
          "text": [
            "Extracting Dataset Version Zip to Formula-detector-9 in yolov8:: 100%|██████████| 4928/4928 [00:02<00:00, 2413.85it/s]\n"
          ]
        }
      ]
    },
    {
      "cell_type": "markdown",
      "source": [
        "***Skip detection command\n",
        "(included in crating labels) ***"
      ],
      "metadata": {
        "id": "OGNCJLXOKDmg"
      }
    },
    {
      "cell_type": "markdown",
      "source": [
        "\n",
        "\n",
        "---\n",
        "\n",
        "Detection, creation of label files et segmentation to get bounding boxes"
      ],
      "metadata": {
        "id": "dnJWs00DOR2R"
      }
    },
    {
      "cell_type": "code",
      "source": [
        "!python3 /content/DLLFormula/segmentation/LabelsCreator.py EQ\n"
      ],
      "metadata": {
        "colab": {
          "base_uri": "https://localhost:8080/"
        },
        "id": "iS5MqXdDgdDe",
        "outputId": "ecb5878e-c7ed-4e33-9268-c7c99dfe584f"
      },
      "execution_count": null,
      "outputs": [
        {
          "output_type": "stream",
          "name": "stdout",
          "text": [
            "\rloading Roboflow workspace...\n",
            "\rloading Roboflow project...\n"
          ]
        }
      ]
    },
    {
      "cell_type": "code",
      "source": [
        "!python3 /content/DLLFormula/segmentation/segmentation_try3.py EQ"
      ],
      "metadata": {
        "id": "_ZJ54rh7OZWV",
        "colab": {
          "base_uri": "https://localhost:8080/"
        },
        "outputId": "1c0ea235-d571-4297-dbdb-90d7cff43052"
      },
      "execution_count": null,
      "outputs": [
        {
          "output_type": "stream",
          "name": "stdout",
          "text": [
            "Cropped images for frame0-00-00.00.jpg saved.\n",
            "Cropped images for frame0-00-02.50.jpg saved.\n",
            "Cropped images for frame0-00-05.00.jpg saved.\n",
            "Cropped images for frame0-00-07.51.jpg saved.\n",
            "Cropped images for frame0-00-10.01.jpg saved.\n",
            "Cropped images for frame0-00-12.51.jpg saved.\n",
            "Cropped images for frame0-00-15.02.jpg saved.\n",
            "Cropped images for frame0-00-17.52.jpg saved.\n",
            "Cropped images for frame0-00-20.02.jpg saved.\n",
            "Cropped images for frame0-00-22.52.jpg saved.\n",
            "Cropped images for frame0-00-25.02.jpg saved.\n",
            "Cropped images for frame0-00-27.53.jpg saved.\n",
            "Cropped images for frame0-00-30.03.jpg saved.\n",
            "Cropped images for frame0-00-32.53.jpg saved.\n",
            "Cropped images for frame0-00-34.20.jpg saved.\n",
            "Cropped images for frame0-00-36.70.jpg saved.\n",
            "Cropped images for frame0-00-39.21.jpg saved.\n",
            "Cropped images for frame0-00-41.71.jpg saved.\n",
            "Cropped images for frame0-00-44.21.jpg saved.\n",
            "Cropped images for frame0-00-46.71.jpg saved.\n",
            "Cropped images for frame0-00-49.22.jpg saved.\n",
            "Cropped images for frame0-00-51.72.jpg saved.\n",
            "Cropped images for frame0-00-54.22.jpg saved.\n",
            "Cropped images for frame0-00-56.72.jpg saved.\n",
            "Cropped images for frame0-00-59.23.jpg saved.\n",
            "Cropped images for frame0-01-01.73.jpg saved.\n",
            "Cropped images for frame0-01-04.23.jpg saved.\n",
            "Cropped images for frame0-01-06.73.jpg saved.\n",
            "Cropped images for frame0-01-08.40.jpg saved.\n",
            "Cropped images for frame0-01-10.90.jpg saved.\n",
            "Cropped images for frame0-01-13.41.jpg saved.\n",
            "Cropped images for frame0-01-15.91.jpg saved.\n",
            "Cropped images for frame0-01-18.41.jpg saved.\n",
            "Cropped images for frame0-01-20.91.jpg saved.\n",
            "Cropped images for frame0-01-23.42.jpg saved.\n",
            "Cropped images for frame0-01-25.92.jpg saved.\n",
            "Cropped images for frame0-01-28.42.jpg saved.\n",
            "Cropped images for frame0-01-30.92.jpg saved.\n",
            "Cropped images for frame0-01-33.43.jpg saved.\n",
            "Cropped images for frame0-01-35.93.jpg saved.\n",
            "Cropped images for frame0-01-38.43.jpg saved.\n",
            "Cropped images for frame0-01-40.10.jpg saved.\n",
            "Cropped images for frame0-01-42.60.jpg saved.\n",
            "Cropped images for frame0-01-45.10.jpg saved.\n",
            "Cropped images for frame0-01-47.61.jpg saved.\n",
            "Cropped images for frame0-01-50.11.jpg saved.\n",
            "Cropped images for frame0-01-52.61.jpg saved.\n",
            "Cropped images for frame0-01-55.12.jpg saved.\n",
            "Cropped images for frame0-01-57.62.jpg saved.\n",
            "Cropped images for frame0-02-00.12.jpg saved.\n",
            "Cropped images for frame0-02-02.62.jpg saved.\n",
            "Cropped images for frame0-02-05.12.jpg saved.\n",
            "Cropped images for frame0-02-07.63.jpg saved.\n",
            "Cropped images for frame0-02-10.13.jpg saved.\n",
            "Cropped images for frame0-02-12.63.jpg saved.\n",
            "Cropped images for frame0-02-14.30.jpg saved.\n",
            "Cropped images for frame0-02-16.80.jpg saved.\n",
            "Cropped images for frame0-02-19.31.jpg saved.\n",
            "Cropped images for frame0-02-21.81.jpg saved.\n",
            "Cropped images for frame0-02-24.31.jpg saved.\n",
            "Cropped images for frame0-02-26.81.jpg saved.\n",
            "Cropped images for frame0-02-29.32.jpg saved.\n",
            "Cropped images for frame0-02-31.82.jpg saved.\n",
            "Cropped images for frame0-02-34.32.jpg saved.\n",
            "Cropped images for frame0-02-36.82.jpg saved.\n",
            "Cropped images for frame0-02-39.33.jpg saved.\n",
            "Cropped images for frame0-02-41.83.jpg saved.\n",
            "Cropped images for frame0-02-44.33.jpg saved.\n",
            "Cropped images for frame0-02-46.83.jpg saved.\n",
            "Cropped images for frame0-02-48.50.jpg saved.\n",
            "Cropped images for frame0-02-51.00.jpg saved.\n",
            "Cropped images for frame0-02-53.51.jpg saved.\n",
            "Cropped images for frame0-02-56.01.jpg saved.\n",
            "Cropped images for frame0-02-58.51.jpg saved.\n",
            "Cropped images for frame0-03-01.01.jpg saved.\n",
            "Cropped images for frame0-03-03.52.jpg saved.\n",
            "Cropped images for frame0-03-06.02.jpg saved.\n",
            "Cropped images for frame0-03-08.52.jpg saved.\n",
            "Cropped images for frame0-03-11.02.jpg saved.\n",
            "Cropped images for frame0-03-13.53.jpg saved.\n",
            "Cropped images for frame0-03-16.03.jpg saved.\n",
            "Cropped images for frame0-03-18.53.jpg saved.\n",
            "Cropped images for frame0-03-20.20.jpg saved.\n",
            "Cropped images for frame0-03-22.70.jpg saved.\n",
            "Cropped images for frame0-03-25.20.jpg saved.\n",
            "Cropped images for frame0-03-27.71.jpg saved.\n",
            "Cropped images for frame0-03-30.21.jpg saved.\n",
            "Cropped images for frame0-03-32.71.jpg saved.\n",
            "Cropped images for frame0-03-35.22.jpg saved.\n",
            "Cropped images for frame0-03-37.72.jpg saved.\n",
            "Cropped images for frame0-03-40.22.jpg saved.\n",
            "Cropped images for frame0-03-42.72.jpg saved.\n",
            "Cropped images for frame0-03-45.22.jpg saved.\n",
            "Cropped images for frame0-03-47.73.jpg saved.\n",
            "Cropped images for frame0-03-50.23.jpg saved.\n",
            "Cropped images for frame0-03-52.73.jpg saved.\n",
            "Cropped images for frame0-03-54.40.jpg saved.\n",
            "Cropped images for frame0-03-56.90.jpg saved.\n",
            "Cropped images for frame0-03-59.41.jpg saved.\n",
            "Cropped images for frame0-04-01.91.jpg saved.\n",
            "Cropped images for frame0-04-04.41.jpg saved.\n",
            "Cropped images for frame0-04-06.91.jpg saved.\n",
            "Cropped images for frame0-04-09.42.jpg saved.\n",
            "Cropped images for frame0-04-11.92.jpg saved.\n",
            "Cropped images for frame0-04-14.42.jpg saved.\n",
            "Cropped images for frame0-04-16.92.jpg saved.\n",
            "Cropped images for frame0-04-19.43.jpg saved.\n",
            "Cropped images for frame0-04-21.93.jpg saved.\n",
            "Cropped images for frame0-04-24.43.jpg saved.\n",
            "Cropped images for frame0-04-26.93.jpg saved.\n",
            "Cropped images for frame0-04-28.60.jpg saved.\n",
            "Cropped images for frame0-04-31.10.jpg saved.\n",
            "Cropped images for frame0-04-33.61.jpg saved.\n",
            "Cropped images for frame0-04-36.11.jpg saved.\n",
            "Cropped images for frame0-04-38.61.jpg saved.\n",
            "Cropped images for frame0-04-41.11.jpg saved.\n",
            "Cropped images for frame0-04-43.62.jpg saved.\n",
            "Cropped images for frame0-04-46.12.jpg saved.\n",
            "Cropped images for frame0-04-48.62.jpg saved.\n",
            "Cropped images for frame0-04-51.12.jpg saved.\n",
            "Cropped images for frame0-04-53.63.jpg saved.\n",
            "Cropped images for frame0-04-56.13.jpg saved.\n",
            "Cropped images for frame0-04-58.63.jpg saved.\n",
            "Cropped images for frame0-05-00.30.jpg saved.\n",
            "Cropped images for frame0-05-02.80.jpg saved.\n",
            "Cropped images for frame0-05-05.30.jpg saved.\n",
            "Cropped images for frame0-05-07.81.jpg saved.\n",
            "Cropped images for frame0-05-10.31.jpg saved.\n",
            "Cropped images for frame0-05-12.81.jpg saved.\n",
            "Cropped images for frame0-05-15.32.jpg saved.\n",
            "Cropped images for frame0-05-17.82.jpg saved.\n",
            "Cropped images for frame0-05-20.32.jpg saved.\n",
            "Cropped images for frame0-05-22.82.jpg saved.\n",
            "Cropped images for frame0-05-25.32.jpg saved.\n",
            "Cropped images for frame0-05-27.83.jpg saved.\n",
            "Cropped images for frame0-05-30.33.jpg saved.\n",
            "Cropped images for frame0-05-32.83.jpg saved.\n",
            "Cropped images for frame0-05-34.50.jpg saved.\n",
            "Cropped images for frame0-05-37.00.jpg saved.\n",
            "Cropped images for frame0-05-39.51.jpg saved.\n",
            "Cropped images for frame0-05-42.01.jpg saved.\n",
            "Cropped images for frame0-05-44.51.jpg saved.\n",
            "Cropped images for frame0-05-47.01.jpg saved.\n",
            "Cropped images for frame0-05-49.52.jpg saved.\n",
            "Cropped images for frame0-05-52.02.jpg saved.\n",
            "Cropped images for frame0-05-54.52.jpg saved.\n",
            "Cropped images for frame0-05-57.02.jpg saved.\n",
            "Cropped images for frame0-05-59.53.jpg saved.\n",
            "Cropped images for frame0-06-02.03.jpg saved.\n",
            "Cropped images for frame0-06-04.53.jpg saved.\n",
            "Cropped images for frame0-06-07.03.jpg saved.\n",
            "Cropped images for frame0-06-08.70.jpg saved.\n",
            "Cropped images for frame0-06-11.20.jpg saved.\n",
            "Cropped images for frame0-06-13.71.jpg saved.\n",
            "Cropped images for frame0-06-16.21.jpg saved.\n",
            "Cropped images for frame0-06-18.71.jpg saved.\n",
            "Cropped images for frame0-06-21.21.jpg saved.\n",
            "Cropped images for frame0-06-23.72.jpg saved.\n",
            "Cropped images for frame0-06-26.22.jpg saved.\n",
            "Cropped images for frame0-06-28.72.jpg saved.\n",
            "Cropped images for frame0-06-31.22.jpg saved.\n",
            "Cropped images for frame0-06-33.73.jpg saved.\n",
            "Cropped images for frame0-06-36.23.jpg saved.\n",
            "Cropped images for frame0-06-38.73.jpg saved.\n",
            "Cropped images for frame0-06-40.40.jpg saved.\n",
            "Cropped images for frame0-06-42.90.jpg saved.\n",
            "Cropped images for frame0-06-45.40.jpg saved.\n",
            "Cropped images for frame0-06-47.91.jpg saved.\n",
            "Cropped images for frame0-06-50.41.jpg saved.\n",
            "Cropped images for frame0-06-52.91.jpg saved.\n",
            "Cropped images for frame0-06-55.42.jpg saved.\n",
            "Cropped images for frame0-06-57.92.jpg saved.\n",
            "Cropped images for frame0-07-00.42.jpg saved.\n",
            "Cropped images for frame0-07-02.92.jpg saved.\n",
            "Cropped images for frame0-07-05.42.jpg saved.\n",
            "Cropped images for frame0-07-07.93.jpg saved.\n",
            "Cropped images for frame0-07-10.43.jpg saved.\n",
            "Cropped images for frame0-07-12.93.jpg saved.\n",
            "Cropped images for frame0-07-14.60.jpg saved.\n",
            "Cropped images for frame0-07-17.10.jpg saved.\n",
            "Cropped images for frame0-07-19.61.jpg saved.\n",
            "Cropped images for frame0-07-22.11.jpg saved.\n",
            "Cropped images for frame0-07-24.61.jpg saved.\n",
            "Cropped images for frame0-07-27.11.jpg saved.\n",
            "Cropped images for frame0-07-29.62.jpg saved.\n",
            "Cropped images for frame0-07-32.12.jpg saved.\n",
            "Cropped images for frame0-07-34.62.jpg saved.\n",
            "Cropped images for frame0-07-37.12.jpg saved.\n",
            "Cropped images for frame0-07-39.63.jpg saved.\n",
            "Cropped images for frame0-07-42.13.jpg saved.\n",
            "Cropped images for frame0-07-44.63.jpg saved.\n",
            "Cropped images for frame0-07-47.13.jpg saved.\n",
            "Cropped images for frame0-07-48.80.jpg saved.\n",
            "Cropped images for frame0-07-51.30.jpg saved.\n",
            "Cropped images for frame0-07-53.81.jpg saved.\n",
            "Cropped images for frame0-07-56.31.jpg saved.\n",
            "Cropped images for frame0-07-58.81.jpg saved.\n",
            "Cropped images for frame0-08-01.31.jpg saved.\n",
            "Cropped images for frame0-08-03.82.jpg saved.\n",
            "Cropped images for frame0-08-06.32.jpg saved.\n",
            "Cropped images for frame0-08-08.82.jpg saved.\n",
            "Cropped images for frame0-08-11.32.jpg saved.\n",
            "Cropped images for frame0-08-13.83.jpg saved.\n",
            "Cropped images for frame0-08-16.33.jpg saved.\n",
            "Cropped images for frame0-08-18.83.jpg saved.\n",
            "Cropped images for frame0-08-20.50.jpg saved.\n",
            "Cropped images for frame0-08-23.00.jpg saved.\n",
            "Cropped images for frame0-08-25.50.jpg saved.\n",
            "Cropped images for frame0-08-28.01.jpg saved.\n",
            "Cropped images for frame0-08-30.51.jpg saved.\n",
            "Cropped images for frame0-08-33.01.jpg saved.\n",
            "Cropped images for frame0-08-35.52.jpg saved.\n",
            "Cropped images for frame0-08-38.02.jpg saved.\n",
            "Cropped images for frame0-08-40.52.jpg saved.\n",
            "Cropped images for frame0-08-43.02.jpg saved.\n",
            "Cropped images for frame0-08-45.52.jpg saved.\n",
            "Cropped images for frame0-08-48.03.jpg saved.\n",
            "Cropped images for frame0-08-50.53.jpg saved.\n",
            "Cropped images for frame0-08-53.03.jpg saved.\n",
            "Cropped images for frame0-08-54.70.jpg saved.\n",
            "Cropped images for frame0-08-57.20.jpg saved.\n",
            "Cropped images for frame0-08-59.71.jpg saved.\n",
            "Cropped images for frame0-09-02.21.jpg saved.\n",
            "Cropped images for frame0-09-04.71.jpg saved.\n",
            "Cropped images for frame0-09-07.21.jpg saved.\n",
            "Cropped images for frame0-09-09.72.jpg saved.\n",
            "Cropped images for frame0-09-12.22.jpg saved.\n",
            "Cropped images for frame0-09-14.72.jpg saved.\n",
            "Cropped images for frame0-09-17.22.jpg saved.\n",
            "Cropped images for frame0-09-19.73.jpg saved.\n",
            "Cropped images for frame0-09-22.23.jpg saved.\n",
            "Cropped images for frame0-09-24.73.jpg saved.\n",
            "Cropped images for frame0-09-27.23.jpg saved.\n",
            "Cropped images for frame0-09-28.90.jpg saved.\n",
            "Cropped images for frame0-09-31.40.jpg saved.\n",
            "Cropped images for frame0-09-33.91.jpg saved.\n",
            "Cropped images for frame0-09-36.41.jpg saved.\n",
            "Cropped images for frame0-09-38.91.jpg saved.\n",
            "Cropped images for frame0-09-41.41.jpg saved.\n",
            "Cropped images for frame0-09-43.92.jpg saved.\n",
            "Cropped images for frame0-09-46.42.jpg saved.\n",
            "Cropped images for frame0-09-48.92.jpg saved.\n",
            "Cropped images for frame0-09-51.42.jpg saved.\n",
            "Cropped images for frame0-09-53.93.jpg saved.\n",
            "Cropped images for frame0-09-56.43.jpg saved.\n",
            "Cropped images for frame0-09-58.93.jpg saved.\n",
            "Cropped images for frame0-10-00.60.jpg saved.\n",
            "Cropped images for frame0-10-03.10.jpg saved.\n",
            "Cropped images for frame0-10-05.60.jpg saved.\n",
            "Cropped images for frame0-10-08.11.jpg saved.\n",
            "Cropped images for frame0-10-10.61.jpg saved.\n",
            "Cropped images for frame0-10-13.11.jpg saved.\n",
            "Cropped images for frame0-10-15.62.jpg saved.\n",
            "Cropped images for frame0-10-18.12.jpg saved.\n",
            "Cropped images for frame0-10-20.62.jpg saved.\n",
            "Cropped images for frame0-10-23.12.jpg saved.\n",
            "Cropped images for frame0-10-25.62.jpg saved.\n",
            "Cropped images for frame0-10-28.13.jpg saved.\n",
            "Cropped images for frame0-10-30.63.jpg saved.\n",
            "Cropped images for frame0-10-33.13.jpg saved.\n",
            "Cropped images for frame0-10-34.80.jpg saved.\n",
            "Cropped images for frame0-10-37.30.jpg saved.\n",
            "Cropped images for frame0-10-39.81.jpg saved.\n",
            "Cropped images for frame0-10-42.31.jpg saved.\n",
            "Cropped images for frame0-10-44.81.jpg saved.\n",
            "Cropped images for frame0-10-47.31.jpg saved.\n",
            "Cropped images for frame0-10-49.82.jpg saved.\n",
            "Cropped images for frame0-10-52.32.jpg saved.\n",
            "Cropped images for frame0-10-54.82.jpg saved.\n",
            "Cropped images for frame0-10-57.32.jpg saved.\n",
            "Cropped images for frame0-10-59.83.jpg saved.\n",
            "Cropped images for frame0-11-02.33.jpg saved.\n",
            "Cropped images for frame0-11-04.83.jpg saved.\n",
            "All frames processed.\n"
          ]
        }
      ]
    },
    {
      "cell_type": "markdown",
      "source": [
        "\n",
        "\n",
        "---\n",
        "**Conversion** : cf latex ocr test notebook\n"
      ],
      "metadata": {
        "id": "4zv07XB0LNJm"
      }
    },
    {
      "cell_type": "code",
      "source": [
        "#it's ok if it gives version error , execute twice tho\n",
        "\n",
        "!pip show pillow\n",
        "%reload_ext autoreload\n",
        "%autoreload\n",
        "import PIL\n",
        "!pip install Pillow -U -qq\n",
        "\n",
        "\n",
        "!pip install pix2tex -qq\n",
        "!pip install opencv-python-headless==4.1.2.30 -U -qq"
      ],
      "metadata": {
        "id": "O70IsiEYLXaI",
        "colab": {
          "base_uri": "https://localhost:8080/"
        },
        "outputId": "1b78d3cd-0e94-4786-9052-a370f5fd8d16"
      },
      "execution_count": null,
      "outputs": [
        {
          "output_type": "stream",
          "name": "stdout",
          "text": [
            "Name: Pillow\n",
            "Version: 10.0.0\n",
            "Summary: Python Imaging Library (Fork)\n",
            "Home-page: https://python-pillow.org\n",
            "Author: Jeffrey A. Clark (Alex)\n",
            "Author-email: aclark@aclark.net\n",
            "License: HPND\n",
            "Location: /usr/local/lib/python3.10/dist-packages\n",
            "Requires: \n",
            "Required-by: bokeh, dopamine-rl, fastai, imageio, imgaug, matplotlib, pix2tex, scikit-image, torchvision, wordcloud\n",
            "\u001b[31mERROR: Could not find a version that satisfies the requirement opencv-python-headless==4.1.2.30 (from versions: 3.4.10.37, 3.4.11.39, 3.4.11.41, 3.4.11.43, 3.4.11.45, 3.4.13.47, 3.4.15.55, 3.4.16.59, 3.4.17.61, 3.4.17.63, 3.4.18.65, 4.3.0.38, 4.4.0.40, 4.4.0.42, 4.4.0.44, 4.4.0.46, 4.5.1.48, 4.5.3.56, 4.5.4.58, 4.5.4.60, 4.5.5.62, 4.5.5.64, 4.6.0.66, 4.7.0.68, 4.7.0.72, 4.8.0.74)\u001b[0m\u001b[31m\n",
            "\u001b[0m\u001b[31mERROR: No matching distribution found for opencv-python-headless==4.1.2.30\u001b[0m\u001b[31m\n",
            "\u001b[0m"
          ]
        }
      ]
    },
    {
      "cell_type": "code",
      "source": [],
      "metadata": {
        "id": "zkogNYH6yib-"
      },
      "execution_count": null,
      "outputs": []
    },
    {
      "cell_type": "markdown",
      "source": [
        "link to ocr test https://colab.research.google.com/drive/1_ZZGCOw6yTxwppcJliPmPK1VAbNnay0b?authuser=1#scrollTo=CjrR3O07u3uH"
      ],
      "metadata": {
        "id": "eOl8Oe_acWSa"
      }
    },
    {
      "cell_type": "code",
      "source": [
        "!apt-get install imagemagick\n",
        "!apt-get install texlive-latex-recommended"
      ],
      "metadata": {
        "colab": {
          "base_uri": "https://localhost:8080/"
        },
        "id": "RF28ZYXIYKQn",
        "outputId": "1a5dcacf-0405-4a00-aeb8-a5fff8014670"
      },
      "execution_count": null,
      "outputs": [
        {
          "output_type": "stream",
          "name": "stdout",
          "text": [
            "Reading package lists... Done\n",
            "Building dependency tree... Done\n",
            "Reading state information... Done\n",
            "imagemagick is already the newest version (8:6.9.11.60+dfsg-1.3ubuntu0.22.04.3).\n",
            "0 upgraded, 0 newly installed, 0 to remove and 8 not upgraded.\n",
            "Reading package lists... Done\n",
            "Building dependency tree... Done\n",
            "Reading state information... Done\n",
            "The following additional packages will be installed:\n",
            "  dvisvgm fonts-lmodern libfontenc1 libkpathsea6 libptexenc1 libsynctex2\n",
            "  libteckit0 libtexlua53 libtexluajit2 libwoff1 libzzip-0-13 lmodern t1utils\n",
            "  tex-common texlive-base texlive-binaries texlive-latex-base xfonts-encodings\n",
            "  xfonts-utils\n",
            "Suggested packages:\n",
            "  debhelper perl-tk xpdf | pdf-viewer xzdec texlive-latex-base-doc\n",
            "  texlive-latex-recommended-doc texlive-luatex texlive-pstricks\n",
            "The following NEW packages will be installed:\n",
            "  dvisvgm fonts-lmodern libfontenc1 libkpathsea6 libptexenc1 libsynctex2\n",
            "  libteckit0 libtexlua53 libtexluajit2 libwoff1 libzzip-0-13 lmodern t1utils\n",
            "  tex-common texlive-base texlive-binaries texlive-latex-base\n",
            "  texlive-latex-recommended xfonts-encodings xfonts-utils\n",
            "0 upgraded, 20 newly installed, 0 to remove and 8 not upgraded.\n",
            "Need to get 63.4 MB of archives.\n",
            "After this operation, 191 MB of additional disk space will be used.\n",
            "Get:1 http://archive.ubuntu.com/ubuntu jammy/universe amd64 tex-common all 6.17 [33.7 kB]\n",
            "Get:2 http://archive.ubuntu.com/ubuntu jammy-updates/main amd64 libkpathsea6 amd64 2021.20210626.59705-1ubuntu0.1 [60.3 kB]\n",
            "Get:3 http://archive.ubuntu.com/ubuntu jammy/main amd64 libwoff1 amd64 1.0.2-1build4 [45.2 kB]\n",
            "Get:4 http://archive.ubuntu.com/ubuntu jammy/universe amd64 dvisvgm amd64 2.13.1-1 [1,221 kB]\n",
            "Get:5 http://archive.ubuntu.com/ubuntu jammy/universe amd64 fonts-lmodern all 2.004.5-6.1 [4,532 kB]\n",
            "Get:6 http://archive.ubuntu.com/ubuntu jammy/main amd64 libfontenc1 amd64 1:1.1.4-1build3 [14.7 kB]\n",
            "Get:7 http://archive.ubuntu.com/ubuntu jammy-updates/main amd64 libptexenc1 amd64 2021.20210626.59705-1ubuntu0.1 [39.1 kB]\n",
            "Get:8 http://archive.ubuntu.com/ubuntu jammy-updates/main amd64 libsynctex2 amd64 2021.20210626.59705-1ubuntu0.1 [55.5 kB]\n",
            "Get:9 http://archive.ubuntu.com/ubuntu jammy/universe amd64 libteckit0 amd64 2.5.11+ds1-1 [421 kB]\n",
            "Get:10 http://archive.ubuntu.com/ubuntu jammy-updates/main amd64 libtexlua53 amd64 2021.20210626.59705-1ubuntu0.1 [120 kB]\n",
            "Get:11 http://archive.ubuntu.com/ubuntu jammy-updates/main amd64 libtexluajit2 amd64 2021.20210626.59705-1ubuntu0.1 [267 kB]\n",
            "Get:12 http://archive.ubuntu.com/ubuntu jammy/universe amd64 libzzip-0-13 amd64 0.13.72+dfsg.1-1.1 [27.0 kB]\n",
            "Get:13 http://archive.ubuntu.com/ubuntu jammy/main amd64 xfonts-encodings all 1:1.0.5-0ubuntu2 [578 kB]\n",
            "Get:14 http://archive.ubuntu.com/ubuntu jammy/main amd64 xfonts-utils amd64 1:7.7+6build2 [94.6 kB]\n",
            "Get:15 http://archive.ubuntu.com/ubuntu jammy/universe amd64 lmodern all 2.004.5-6.1 [9,471 kB]\n",
            "Get:16 http://archive.ubuntu.com/ubuntu jammy/main amd64 t1utils amd64 1.41-4build2 [61.3 kB]\n",
            "Get:17 http://archive.ubuntu.com/ubuntu jammy-updates/universe amd64 texlive-binaries amd64 2021.20210626.59705-1ubuntu0.1 [9,848 kB]\n",
            "Get:18 http://archive.ubuntu.com/ubuntu jammy/universe amd64 texlive-base all 2021.20220204-1 [21.0 MB]\n",
            "Get:19 http://archive.ubuntu.com/ubuntu jammy/universe amd64 texlive-latex-base all 2021.20220204-1 [1,128 kB]\n",
            "Get:20 http://archive.ubuntu.com/ubuntu jammy/universe amd64 texlive-latex-recommended all 2021.20220204-1 [14.4 MB]\n",
            "Fetched 63.4 MB in 1s (47.0 MB/s)\n",
            "Preconfiguring packages ...\n",
            "Selecting previously unselected package tex-common.\n",
            "(Reading database ... 131965 files and directories currently installed.)\n",
            "Preparing to unpack .../00-tex-common_6.17_all.deb ...\n",
            "Unpacking tex-common (6.17) ...\n",
            "Selecting previously unselected package libkpathsea6:amd64.\n",
            "Preparing to unpack .../01-libkpathsea6_2021.20210626.59705-1ubuntu0.1_amd64.deb ...\n",
            "Unpacking libkpathsea6:amd64 (2021.20210626.59705-1ubuntu0.1) ...\n",
            "Selecting previously unselected package libwoff1:amd64.\n",
            "Preparing to unpack .../02-libwoff1_1.0.2-1build4_amd64.deb ...\n",
            "Unpacking libwoff1:amd64 (1.0.2-1build4) ...\n",
            "Selecting previously unselected package dvisvgm.\n",
            "Preparing to unpack .../03-dvisvgm_2.13.1-1_amd64.deb ...\n",
            "Unpacking dvisvgm (2.13.1-1) ...\n",
            "Selecting previously unselected package fonts-lmodern.\n",
            "Preparing to unpack .../04-fonts-lmodern_2.004.5-6.1_all.deb ...\n",
            "Unpacking fonts-lmodern (2.004.5-6.1) ...\n",
            "Selecting previously unselected package libfontenc1:amd64.\n",
            "Preparing to unpack .../05-libfontenc1_1%3a1.1.4-1build3_amd64.deb ...\n",
            "Unpacking libfontenc1:amd64 (1:1.1.4-1build3) ...\n",
            "Selecting previously unselected package libptexenc1:amd64.\n",
            "Preparing to unpack .../06-libptexenc1_2021.20210626.59705-1ubuntu0.1_amd64.deb ...\n",
            "Unpacking libptexenc1:amd64 (2021.20210626.59705-1ubuntu0.1) ...\n",
            "Selecting previously unselected package libsynctex2:amd64.\n",
            "Preparing to unpack .../07-libsynctex2_2021.20210626.59705-1ubuntu0.1_amd64.deb ...\n",
            "Unpacking libsynctex2:amd64 (2021.20210626.59705-1ubuntu0.1) ...\n",
            "Selecting previously unselected package libteckit0:amd64.\n",
            "Preparing to unpack .../08-libteckit0_2.5.11+ds1-1_amd64.deb ...\n",
            "Unpacking libteckit0:amd64 (2.5.11+ds1-1) ...\n",
            "Selecting previously unselected package libtexlua53:amd64.\n",
            "Preparing to unpack .../09-libtexlua53_2021.20210626.59705-1ubuntu0.1_amd64.deb ...\n",
            "Unpacking libtexlua53:amd64 (2021.20210626.59705-1ubuntu0.1) ...\n",
            "Selecting previously unselected package libtexluajit2:amd64.\n",
            "Preparing to unpack .../10-libtexluajit2_2021.20210626.59705-1ubuntu0.1_amd64.deb ...\n",
            "Unpacking libtexluajit2:amd64 (2021.20210626.59705-1ubuntu0.1) ...\n",
            "Selecting previously unselected package libzzip-0-13:amd64.\n",
            "Preparing to unpack .../11-libzzip-0-13_0.13.72+dfsg.1-1.1_amd64.deb ...\n",
            "Unpacking libzzip-0-13:amd64 (0.13.72+dfsg.1-1.1) ...\n",
            "Selecting previously unselected package xfonts-encodings.\n",
            "Preparing to unpack .../12-xfonts-encodings_1%3a1.0.5-0ubuntu2_all.deb ...\n",
            "Unpacking xfonts-encodings (1:1.0.5-0ubuntu2) ...\n",
            "Selecting previously unselected package xfonts-utils.\n",
            "Preparing to unpack .../13-xfonts-utils_1%3a7.7+6build2_amd64.deb ...\n",
            "Unpacking xfonts-utils (1:7.7+6build2) ...\n",
            "Selecting previously unselected package lmodern.\n",
            "Preparing to unpack .../14-lmodern_2.004.5-6.1_all.deb ...\n",
            "Unpacking lmodern (2.004.5-6.1) ...\n",
            "Selecting previously unselected package t1utils.\n",
            "Preparing to unpack .../15-t1utils_1.41-4build2_amd64.deb ...\n",
            "Unpacking t1utils (1.41-4build2) ...\n",
            "Selecting previously unselected package texlive-binaries.\n",
            "Preparing to unpack .../16-texlive-binaries_2021.20210626.59705-1ubuntu0.1_amd64.deb ...\n",
            "Unpacking texlive-binaries (2021.20210626.59705-1ubuntu0.1) ...\n",
            "Selecting previously unselected package texlive-base.\n",
            "Preparing to unpack .../17-texlive-base_2021.20220204-1_all.deb ...\n",
            "Unpacking texlive-base (2021.20220204-1) ...\n",
            "Selecting previously unselected package texlive-latex-base.\n",
            "Preparing to unpack .../18-texlive-latex-base_2021.20220204-1_all.deb ...\n",
            "Unpacking texlive-latex-base (2021.20220204-1) ...\n",
            "Selecting previously unselected package texlive-latex-recommended.\n",
            "Preparing to unpack .../19-texlive-latex-recommended_2021.20220204-1_all.deb ...\n",
            "Unpacking texlive-latex-recommended (2021.20220204-1) ...\n",
            "Setting up libwoff1:amd64 (1.0.2-1build4) ...\n",
            "Setting up libtexlua53:amd64 (2021.20210626.59705-1ubuntu0.1) ...\n",
            "Setting up libtexluajit2:amd64 (2021.20210626.59705-1ubuntu0.1) ...\n",
            "Setting up libzzip-0-13:amd64 (0.13.72+dfsg.1-1.1) ...\n",
            "Setting up tex-common (6.17) ...\n",
            "update-language: texlive-base not installed and configured, doing nothing!\n",
            "Setting up libfontenc1:amd64 (1:1.1.4-1build3) ...\n",
            "Setting up libteckit0:amd64 (2.5.11+ds1-1) ...\n",
            "Setting up xfonts-encodings (1:1.0.5-0ubuntu2) ...\n",
            "Setting up t1utils (1.41-4build2) ...\n",
            "Setting up libkpathsea6:amd64 (2021.20210626.59705-1ubuntu0.1) ...\n",
            "Setting up fonts-lmodern (2.004.5-6.1) ...\n",
            "Setting up libsynctex2:amd64 (2021.20210626.59705-1ubuntu0.1) ...\n",
            "Setting up dvisvgm (2.13.1-1) ...\n",
            "Setting up xfonts-utils (1:7.7+6build2) ...\n",
            "Setting up libptexenc1:amd64 (2021.20210626.59705-1ubuntu0.1) ...\n",
            "Setting up texlive-binaries (2021.20210626.59705-1ubuntu0.1) ...\n",
            "update-alternatives: using /usr/bin/xdvi-xaw to provide /usr/bin/xdvi.bin (xdvi.bin) in auto mode\n",
            "update-alternatives: using /usr/bin/bibtex.original to provide /usr/bin/bibtex (bibtex) in auto mode\n",
            "Setting up lmodern (2.004.5-6.1) ...\n",
            "Setting up texlive-base (2021.20220204-1) ...\n",
            "/usr/bin/ucfr\n",
            "/usr/bin/ucfr\n",
            "/usr/bin/ucfr\n",
            "/usr/bin/ucfr\n",
            "mktexlsr: Updating /var/lib/texmf/ls-R-TEXLIVEDIST... \n",
            "mktexlsr: Updating /var/lib/texmf/ls-R-TEXMFMAIN... \n",
            "mktexlsr: Updating /var/lib/texmf/ls-R... \n",
            "mktexlsr: Done.\n",
            "tl-paper: setting paper size for dvips to a4: /var/lib/texmf/dvips/config/config-paper.ps\n",
            "tl-paper: setting paper size for dvipdfmx to a4: /var/lib/texmf/dvipdfmx/dvipdfmx-paper.cfg\n",
            "tl-paper: setting paper size for xdvi to a4: /var/lib/texmf/xdvi/XDvi-paper\n",
            "tl-paper: setting paper size for pdftex to a4: /var/lib/texmf/tex/generic/tex-ini-files/pdftexconfig.tex\n",
            "Setting up texlive-latex-base (2021.20220204-1) ...\n",
            "Setting up texlive-latex-recommended (2021.20220204-1) ...\n",
            "Processing triggers for libc-bin (2.35-0ubuntu3.1) ...\n",
            "Processing triggers for man-db (2.10.2-1) ...\n",
            "Processing triggers for fontconfig (2.13.1-4.2ubuntu5) ...\n",
            "Processing triggers for tex-common (6.17) ...\n",
            "Running updmap-sys. This may take some time... done.\n",
            "Running mktexlsr /var/lib/texmf ... done.\n",
            "Building format(s) --all.\n",
            "\tThis may take some time... done.\n",
            "<IPython.core.display.HTML object>\n",
            "/content/DLLFormula/datasets/runs/boxes/EQ/frame0-01-20.91_2.jpg\n",
            "x:I\\longrightarrow E\n",
            "Traceback (most recent call last):\n",
            "  File \"/usr/local/lib/python3.10/dist-packages/sympy/printing/preview.py\", line 311, in preview\n",
            "    _check_output_no_window(\n",
            "  File \"/usr/local/lib/python3.10/dist-packages/sympy/printing/preview.py\", line 25, in _check_output_no_window\n",
            "    return check_output(*args, creationflags=creation_flag, **kwargs)\n",
            "  File \"/usr/lib/python3.10/subprocess.py\", line 420, in check_output\n",
            "    return run(*popenargs, stdout=PIPE, timeout=timeout, check=True,\n",
            "  File \"/usr/lib/python3.10/subprocess.py\", line 524, in run\n",
            "    raise CalledProcessError(retcode, process.args,\n",
            "subprocess.CalledProcessError: Command '['latex', '-halt-on-error', '-interaction=nonstopmode', 'texput.tex']' returned non-zero exit status 1.\n",
            "\n",
            "During handling of the above exception, another exception occurred:\n",
            "\n",
            "Traceback (most recent call last):\n",
            "  File \"/content/DLLFormula/segmentation/latex.py\", line 60, in <module>\n",
            "    preview(latex_code, viewer='file', filename=image_file + \".png\", euler=False)\n",
            "  File \"/usr/local/lib/python3.10/dist-packages/sympy/printing/preview.py\", line 317, in preview\n",
            "    raise RuntimeError(\n",
            "RuntimeError: 'latex' exited abnormally with the following output:\n",
            "b\"This is pdfTeX, Version 3.141592653-2.6-1.40.22 (TeX Live 2022/dev/Debian) (preloaded format=latex)\\n restricted \\\\write18 enabled.\\nentering extended mode\\n(./texput.tex\\nLaTeX2e <2021-11-15> patch level 1\\nL3 programming layer <2022-01-21>\\n\\n! LaTeX Error: File `standalone.cls' not found.\\n\\nType X to quit or <RETURN> to proceed,\\nor enter new name. (Default extension: cls)\\n\\nEnter file name: \\n! Emergency stop.\\n<read *> \\n         \\nl.2 ^^M\\n       \\nNo pages of output.\\nTranscript written on texput.log.\\n\"\n"
          ]
        }
      ]
    },
    {
      "cell_type": "code",
      "source": [
        "!python3 /content/DLLFormula/segmentation/latex.py EQ"
      ],
      "metadata": {
        "colab": {
          "base_uri": "https://localhost:8080/"
        },
        "id": "wCQmZuPAuJxp",
        "outputId": "f1b654e9-5cd9-4d14-92c8-e0fb77789e28"
      },
      "execution_count": null,
      "outputs": [
        {
          "output_type": "stream",
          "name": "stdout",
          "text": [
            "download weights v0.0.1 to path /usr/local/lib/python3.10/dist-packages/pix2tex/model/checkpoints\n",
            "weights.pth: 100% 97.4M/97.4M [00:00<00:00, 165Mb/s]\n",
            "image_resizer.pth: 100% 18.5M/18.5M [00:00<00:00, 93.4Mb/s]\n",
            "<IPython.core.display.HTML object>\n",
            "/content/DLLFormula/datasets/runs/boxes/EQ/frame.png\n",
            "d f_{M}:H\\mapsto M H+H M\n",
            "<IPython.core.display.Math object>\n",
            "Formulas saved to: output_formulas.tex\n"
          ]
        }
      ]
    },
    {
      "cell_type": "markdown",
      "source": [
        "# **Améliorer l'output:**\n",
        "\n",
        "---\n",
        "# Visualize output"
      ],
      "metadata": {
        "id": "lGTcBIbKlgNt"
      }
    },
    {
      "cell_type": "code",
      "source": [
        "import os, requests\n",
        "def formula_as_file(formula, file, negate=False):\n",
        "    '''render the latex formula ( for visual validation) '''\n",
        "    ##https://jamesgregson.blogspot.com/2013/06/latex-formulas-as-images-using-python.html\n",
        "    tfile = file\n",
        "    if negate:\n",
        "        tfile = 'tmp.png'\n",
        "    r = requests.get('http://latex.codecogs.com/png.latex?\\dpi{300} \\Large\t %s' % formula)\n",
        "    f = open(tfile, 'wb')\n",
        "    f.write(r.content)\n",
        "    f.close()\n",
        "    if negate:\n",
        "        os.system('convert tmp.png -channel RGB -negate -colorspace rgb %s' % file)\n",
        "\n",
        "\n",
        "try:\n",
        "        #formula_as_file(r'\\Gamma_{Levin}(x) = \\| \\nabla p(x) \\|_2^{0.8} + \\sum_i |\\frac{\\partial^2 p(x)}{\\partial x_i^2}|^{0.8}','test1.png')\n",
        "        formula_as_file(r'x^{\\prime}=\\sin(t x),\\;x_{*}^{\\prime}=t^{2}+x^{2}', 'test2.png', negate=True)\n",
        "        print('formula saved as file')\n",
        "except:\n",
        "        print(\"can't save as file\")\n"
      ],
      "metadata": {
        "colab": {
          "base_uri": "https://localhost:8080/"
        },
        "id": "8ZUjBbHYexCD",
        "outputId": "bc065c41-11ce-4c98-df10-6f4cfefcfec5"
      },
      "execution_count": null,
      "outputs": [
        {
          "output_type": "stream",
          "name": "stdout",
          "text": [
            "formula saved as file\n"
          ]
        }
      ]
    },
    {
      "cell_type": "code",
      "source": [
        "!python3 /content/DLLFormula/visualization/try2.py EQ"
      ],
      "metadata": {
        "colab": {
          "base_uri": "https://localhost:8080/"
        },
        "id": "M_jkCEyvugtD",
        "outputId": "b3d2e0b0-bdc8-4bd2-c6a0-14e5f146b345"
      },
      "execution_count": null,
      "outputs": [
        {
          "output_type": "stream",
          "name": "stdout",
          "text": [
            "/content/DLLFormula/datasets/runs/boxes/EQ/frame0-01-18.41_0.jpg\n",
            "/content/DLLFormula/datasets/runs/boxes/EQ/frame0-01-18.41_0.jpg\n",
            "x^{\\prime}=\\sin(t x),\\;x_{*}^{\\prime}=t^{2}+x^{2}\n",
            "/content/DLLFormula/datasets/runs/boxes/EQ/frame0-01-20.91_2.jpg\n",
            "/content/DLLFormula/datasets/runs/boxes/EQ/frame0-01-20.91_2.jpg\n",
            "x:I\\longrightarrow E\n",
            "Detected formulas saved to: detected_formulas.xlsx\n"
          ]
        }
      ]
    }
  ]
}