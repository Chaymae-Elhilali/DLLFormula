{
  "nbformat": 4,
  "nbformat_minor": 0,
  "metadata": {
    "colab": {
      "provenance": [],
      "authorship_tag": "ABX9TyOYPyYnf/IIIctR0I3G6tiF",
      "include_colab_link": true
    },
    "kernelspec": {
      "name": "python3",
      "display_name": "Python 3"
    },
    "language_info": {
      "name": "python"
    }
  },
  "cells": [
    {
      "cell_type": "markdown",
      "metadata": {
        "id": "view-in-github",
        "colab_type": "text"
      },
      "source": [
        "<a href=\"https://colab.research.google.com/github/Chaymae-Elhilali/DLLFormula/blob/DontCommitToMaster/Testing_notebook.ipynb\" target=\"_parent\"><img src=\"https://colab.research.google.com/assets/colab-badge.svg\" alt=\"Open In Colab\"/></a>"
      ]
    },
    {
      "cell_type": "code",
      "execution_count": 1,
      "metadata": {
        "colab": {
          "base_uri": "https://localhost:8080/"
        },
        "id": "KEAY_hl8-V_P",
        "outputId": "9094717c-9d0c-422d-9989-dbad8a450f95"
      },
      "outputs": [
        {
          "output_type": "stream",
          "name": "stdout",
          "text": [
            "Cloning into 'DLLFormula'...\n",
            "remote: Enumerating objects: 502, done.\u001b[K\n",
            "remote: Counting objects: 100% (377/377), done.\u001b[K\n",
            "remote: Compressing objects: 100% (351/351), done.\u001b[K\n",
            "remote: Total 502 (delta 56), reused 328 (delta 25), pack-reused 125\u001b[K\n",
            "Receiving objects: 100% (502/502), 105.73 MiB | 21.84 MiB/s, done.\n",
            "Resolving deltas: 100% (113/113), done.\n",
            "Updating files: 100% (292/292), done.\n"
          ]
        }
      ],
      "source": [
        "!git clone https://github.com/Chaymae-Elhilali/DLLFormula.git"
      ]
    },
    {
      "cell_type": "code",
      "source": [
        "# from google.colab import drive\n",
        "# drive.mount('/content/drive')"
      ],
      "metadata": {
        "colab": {
          "base_uri": "https://localhost:8080/"
        },
        "id": "-U8ObjuLKv2P",
        "outputId": "25851254-de2d-4513-f395-276afd20410b"
      },
      "execution_count": 2,
      "outputs": [
        {
          "output_type": "stream",
          "name": "stdout",
          "text": [
            "Mounted at /content/drive\n"
          ]
        }
      ]
    },
    {
      "cell_type": "markdown",
      "source": [
        "\n",
        "\n",
        "---\n",
        "\n",
        "\n",
        "**Video To Frames**\n",
        "\n"
      ],
      "metadata": {
        "id": "PF3B09JjKzPY"
      }
    },
    {
      "cell_type": "code",
      "source": [
        "!pip install --upgrade opencv-python\n",
        "\n",
        "!pip install opencv-python moviepy\n",
        "\n",
        "!pip install scipy"
      ],
      "metadata": {
        "id": "wgmVsOCFLAkf",
        "colab": {
          "base_uri": "https://localhost:8080/"
        },
        "outputId": "0896bbf8-83d6-4846-87e6-53b123712f86"
      },
      "execution_count": 3,
      "outputs": [
        {
          "output_type": "stream",
          "name": "stdout",
          "text": [
            "Requirement already satisfied: opencv-python in /usr/local/lib/python3.10/dist-packages (4.7.0.72)\n",
            "Collecting opencv-python\n",
            "  Downloading opencv_python-4.8.0.74-cp37-abi3-manylinux_2_17_x86_64.manylinux2014_x86_64.whl (61.7 MB)\n",
            "\u001b[2K     \u001b[90m━━━━━━━━━━━━━━━━━━━━━━━━━━━━━━━━━━━━━━━━\u001b[0m \u001b[32m61.7/61.7 MB\u001b[0m \u001b[31m10.2 MB/s\u001b[0m eta \u001b[36m0:00:00\u001b[0m\n",
            "\u001b[?25hRequirement already satisfied: numpy>=1.21.2 in /usr/local/lib/python3.10/dist-packages (from opencv-python) (1.22.4)\n",
            "Installing collected packages: opencv-python\n",
            "  Attempting uninstall: opencv-python\n",
            "    Found existing installation: opencv-python 4.7.0.72\n",
            "    Uninstalling opencv-python-4.7.0.72:\n",
            "      Successfully uninstalled opencv-python-4.7.0.72\n",
            "Successfully installed opencv-python-4.8.0.74\n",
            "Requirement already satisfied: opencv-python in /usr/local/lib/python3.10/dist-packages (4.8.0.74)\n",
            "Requirement already satisfied: moviepy in /usr/local/lib/python3.10/dist-packages (1.0.3)\n",
            "Requirement already satisfied: numpy>=1.21.2 in /usr/local/lib/python3.10/dist-packages (from opencv-python) (1.22.4)\n",
            "Requirement already satisfied: decorator<5.0,>=4.0.2 in /usr/local/lib/python3.10/dist-packages (from moviepy) (4.4.2)\n",
            "Requirement already satisfied: tqdm<5.0,>=4.11.2 in /usr/local/lib/python3.10/dist-packages (from moviepy) (4.65.0)\n",
            "Requirement already satisfied: requests<3.0,>=2.8.1 in /usr/local/lib/python3.10/dist-packages (from moviepy) (2.27.1)\n",
            "Requirement already satisfied: proglog<=1.0.0 in /usr/local/lib/python3.10/dist-packages (from moviepy) (0.1.10)\n",
            "Requirement already satisfied: imageio<3.0,>=2.5 in /usr/local/lib/python3.10/dist-packages (from moviepy) (2.25.1)\n",
            "Requirement already satisfied: imageio-ffmpeg>=0.2.0 in /usr/local/lib/python3.10/dist-packages (from moviepy) (0.4.8)\n",
            "Requirement already satisfied: pillow>=8.3.2 in /usr/local/lib/python3.10/dist-packages (from imageio<3.0,>=2.5->moviepy) (8.4.0)\n",
            "Requirement already satisfied: urllib3<1.27,>=1.21.1 in /usr/local/lib/python3.10/dist-packages (from requests<3.0,>=2.8.1->moviepy) (1.26.16)\n",
            "Requirement already satisfied: certifi>=2017.4.17 in /usr/local/lib/python3.10/dist-packages (from requests<3.0,>=2.8.1->moviepy) (2023.5.7)\n",
            "Requirement already satisfied: charset-normalizer~=2.0.0 in /usr/local/lib/python3.10/dist-packages (from requests<3.0,>=2.8.1->moviepy) (2.0.12)\n",
            "Requirement already satisfied: idna<4,>=2.5 in /usr/local/lib/python3.10/dist-packages (from requests<3.0,>=2.8.1->moviepy) (3.4)\n",
            "Requirement already satisfied: scipy in /usr/local/lib/python3.10/dist-packages (1.10.1)\n",
            "Requirement already satisfied: numpy<1.27.0,>=1.19.5 in /usr/local/lib/python3.10/dist-packages (from scipy) (1.22.4)\n"
          ]
        }
      ]
    },
    {
      "cell_type": "code",
      "source": [
        "!python3 /content/DLLFormula/extract_frames.py /content/DLLFormula/data/EQ.mp4 #path_to_video"
      ],
      "metadata": {
        "id": "sNesI73JLjw0",
        "colab": {
          "base_uri": "https://localhost:8080/"
        },
        "outputId": "3f2f535c-dd5b-410e-b5f8-fbe067113067"
      },
      "execution_count": 4,
      "outputs": [
        {
          "output_type": "stream",
          "name": "stdout",
          "text": [
            "filename is EQ\n",
            "the new filename is EQ\n",
            "output_directory is /content/DLLFormula/data/output_frames/EQ\n",
            "Traceback (most recent call last):\n",
            "  File \"/content/DLLFormula/extract_frames.py\", line 94, in <module>\n",
            "    main(video_file)\n",
            "  File \"/content/DLLFormula/extract_frames.py\", line 86, in main\n",
            "    remove_doubles.remove_doubles(filename)\n",
            "  File \"/content/DLLFormula/remove_doubles.py\", line 19, in remove_doubles\n",
            "    os.chdir(directory)\n",
            "FileNotFoundError: [Errno 2] No such file or directory: '/content/data/output_frames/EQ'\n"
          ]
        }
      ]
    },
    {
      "cell_type": "markdown",
      "source": [
        "### ***Check results at /content/DLLFormula/data/output_frames***"
      ],
      "metadata": {
        "id": "nKFDyi31JKNt"
      }
    },
    {
      "cell_type": "code",
      "source": [
        "#code to delete something:\n",
        "\n",
        "# import os\n",
        "# # Replace 'your_folder_path' with the actual path of the folder you want to delete.\n",
        "# folder_path = '/content/DLLFormula/datasets/runs/boxes/EQ'\n",
        "# if os.path.exists(folder_path):\n",
        "#     # Use the 'shutil.rmtree()' function to recursively remove the folder and its content.\n",
        "#     import shutil\n",
        "#     shutil.rmtree(folder_path)"
      ],
      "metadata": {
        "id": "b2J_wewJuZiX"
      },
      "execution_count": 42,
      "outputs": []
    },
    {
      "cell_type": "markdown",
      "source": [
        "\n",
        "\n",
        "---\n",
        "**Detection**\n"
      ],
      "metadata": {
        "id": "tOD9QP5KLCGv"
      }
    },
    {
      "cell_type": "code",
      "source": [
        "#if it takes too much time try again\n",
        "import os\n",
        "import sys\n",
        "\n",
        "# Check if running on Colab or locally\n",
        "if \"google.colab\" in sys.modules:\n",
        "    base_directory = \"/content/DLLFormula\"\n",
        "else:\n",
        "    base_directory = \"./DLLFormula\"\n",
        "\n",
        "# Create the DLLFormula directory if it doesn't exist\n",
        "if not os.path.isdir(base_directory):\n",
        "    os.makedirs(base_directory)\n",
        "os.chdir(base_directory)\n",
        "\n",
        "# Now continue with the rest of the code to create \"formula-detector-9\" inside DLLFormula\n",
        "!pip install ultralytics==8.0.20\n",
        "\n",
        "from IPython import display\n",
        "display.clear_output()\n",
        "\n",
        "import ultralytics\n",
        "ultralytics.checks()\n",
        "\n",
        "from ultralytics import YOLO\n",
        "from IPython.display import display, Image\n",
        "\n",
        "# Create the datasets directory inside DLLFormula\n",
        "datasets_directory = os.path.join(base_directory, \"datasets\")\n",
        "if not os.path.isdir(datasets_directory):\n",
        "    os.makedirs(datasets_directory)\n",
        "\n",
        "%cd {datasets_directory}\n",
        "\n",
        "!pip install roboflow\n",
        "\n",
        "from roboflow import Roboflow\n",
        "rf = Roboflow(api_key=\"6JdS3fk367XrDxgtvhiS\")\n",
        "project = rf.workspace(\"um6p-ts7fh\").project(\"formula-detector-egybi\")\n",
        "dataset = project.version(9).download(\"yolov8\")\n"
      ],
      "metadata": {
        "id": "35wnUSWditXl",
        "colab": {
          "base_uri": "https://localhost:8080/",
          "height": 1000
        },
        "outputId": "44f196ca-6097-4c6c-f1a7-588c5204d199"
      },
      "execution_count": 6,
      "outputs": [
        {
          "output_type": "stream",
          "name": "stderr",
          "text": [
            "Ultralytics YOLOv8.0.20 🚀 Python-3.10.6 torch-2.0.1+cu118 CPU\n",
            "Setup complete ✅ (2 CPUs, 12.7 GB RAM, 24.7/107.7 GB disk)\n"
          ]
        },
        {
          "output_type": "stream",
          "name": "stdout",
          "text": [
            "/content/DLLFormula/datasets\n",
            "Collecting roboflow\n",
            "  Downloading roboflow-1.1.1-py3-none-any.whl (57 kB)\n",
            "\u001b[2K     \u001b[90m━━━━━━━━━━━━━━━━━━━━━━━━━━━━━━━━━━━━━━━━\u001b[0m \u001b[32m57.4/57.4 kB\u001b[0m \u001b[31m1.0 MB/s\u001b[0m eta \u001b[36m0:00:00\u001b[0m\n",
            "\u001b[?25hCollecting certifi==2022.12.7 (from roboflow)\n",
            "  Downloading certifi-2022.12.7-py3-none-any.whl (155 kB)\n",
            "\u001b[2K     \u001b[90m━━━━━━━━━━━━━━━━━━━━━━━━━━━━━━━━━━━━━━━\u001b[0m \u001b[32m155.3/155.3 kB\u001b[0m \u001b[31m5.8 MB/s\u001b[0m eta \u001b[36m0:00:00\u001b[0m\n",
            "\u001b[?25hRequirement already satisfied: chardet==4.0.0 in /usr/local/lib/python3.10/dist-packages (from roboflow) (4.0.0)\n",
            "Collecting cycler==0.10.0 (from roboflow)\n",
            "  Downloading cycler-0.10.0-py2.py3-none-any.whl (6.5 kB)\n",
            "Collecting idna==2.10 (from roboflow)\n",
            "  Downloading idna-2.10-py2.py3-none-any.whl (58 kB)\n",
            "\u001b[2K     \u001b[90m━━━━━━━━━━━━━━━━━━━━━━━━━━━━━━━━━━━━━━━━\u001b[0m \u001b[32m58.8/58.8 kB\u001b[0m \u001b[31m6.7 MB/s\u001b[0m eta \u001b[36m0:00:00\u001b[0m\n",
            "\u001b[?25hRequirement already satisfied: kiwisolver>=1.3.1 in /usr/local/lib/python3.10/dist-packages (from roboflow) (1.4.4)\n",
            "Requirement already satisfied: matplotlib in /usr/local/lib/python3.10/dist-packages (from roboflow) (3.7.1)\n",
            "Requirement already satisfied: numpy>=1.18.5 in /usr/local/lib/python3.10/dist-packages (from roboflow) (1.22.4)\n",
            "Requirement already satisfied: opencv-python>=4.1.2 in /usr/local/lib/python3.10/dist-packages (from roboflow) (4.8.0.74)\n",
            "Requirement already satisfied: Pillow>=7.1.2 in /usr/local/lib/python3.10/dist-packages (from roboflow) (8.4.0)\n",
            "Collecting pyparsing==2.4.7 (from roboflow)\n",
            "  Downloading pyparsing-2.4.7-py2.py3-none-any.whl (67 kB)\n",
            "\u001b[2K     \u001b[90m━━━━━━━━━━━━━━━━━━━━━━━━━━━━━━━━━━━━━━━━\u001b[0m \u001b[32m67.8/67.8 kB\u001b[0m \u001b[31m8.2 MB/s\u001b[0m eta \u001b[36m0:00:00\u001b[0m\n",
            "\u001b[?25hRequirement already satisfied: python-dateutil in /usr/local/lib/python3.10/dist-packages (from roboflow) (2.8.2)\n",
            "Collecting python-dotenv (from roboflow)\n",
            "  Downloading python_dotenv-1.0.0-py3-none-any.whl (19 kB)\n",
            "Requirement already satisfied: requests in /usr/local/lib/python3.10/dist-packages (from roboflow) (2.27.1)\n",
            "Requirement already satisfied: six in /usr/local/lib/python3.10/dist-packages (from roboflow) (1.16.0)\n",
            "Collecting supervision (from roboflow)\n",
            "  Downloading supervision-0.11.1-py3-none-any.whl (55 kB)\n",
            "\u001b[2K     \u001b[90m━━━━━━━━━━━━━━━━━━━━━━━━━━━━━━━━━━━━━━━━\u001b[0m \u001b[32m55.6/55.6 kB\u001b[0m \u001b[31m6.0 MB/s\u001b[0m eta \u001b[36m0:00:00\u001b[0m\n",
            "\u001b[?25hRequirement already satisfied: urllib3>=1.26.6 in /usr/local/lib/python3.10/dist-packages (from roboflow) (1.26.16)\n",
            "Collecting wget (from roboflow)\n",
            "  Downloading wget-3.2.zip (10 kB)\n",
            "  Preparing metadata (setup.py) ... \u001b[?25l\u001b[?25hdone\n",
            "Requirement already satisfied: tqdm>=4.41.0 in /usr/local/lib/python3.10/dist-packages (from roboflow) (4.65.0)\n",
            "Requirement already satisfied: PyYAML>=5.3.1 in /usr/local/lib/python3.10/dist-packages (from roboflow) (6.0)\n",
            "Collecting requests-toolbelt (from roboflow)\n",
            "  Downloading requests_toolbelt-1.0.0-py2.py3-none-any.whl (54 kB)\n",
            "\u001b[2K     \u001b[90m━━━━━━━━━━━━━━━━━━━━━━━━━━━━━━━━━━━━━━━━\u001b[0m \u001b[32m54.5/54.5 kB\u001b[0m \u001b[31m6.4 MB/s\u001b[0m eta \u001b[36m0:00:00\u001b[0m\n",
            "\u001b[?25hRequirement already satisfied: contourpy>=1.0.1 in /usr/local/lib/python3.10/dist-packages (from matplotlib->roboflow) (1.1.0)\n",
            "Requirement already satisfied: fonttools>=4.22.0 in /usr/local/lib/python3.10/dist-packages (from matplotlib->roboflow) (4.41.0)\n",
            "Requirement already satisfied: packaging>=20.0 in /usr/local/lib/python3.10/dist-packages (from matplotlib->roboflow) (23.1)\n",
            "Requirement already satisfied: charset-normalizer~=2.0.0 in /usr/local/lib/python3.10/dist-packages (from requests->roboflow) (2.0.12)\n",
            "Building wheels for collected packages: wget\n",
            "  Building wheel for wget (setup.py) ... \u001b[?25l\u001b[?25hdone\n",
            "  Created wheel for wget: filename=wget-3.2-py3-none-any.whl size=9657 sha256=f1039fa2086216837db1654e0db9dcae0ea808a263e3b10171c30cef8058c06b\n",
            "  Stored in directory: /root/.cache/pip/wheels/8b/f1/7f/5c94f0a7a505ca1c81cd1d9208ae2064675d97582078e6c769\n",
            "Successfully built wget\n",
            "Installing collected packages: wget, python-dotenv, pyparsing, idna, cycler, certifi, supervision, requests-toolbelt, roboflow\n",
            "  Attempting uninstall: pyparsing\n",
            "    Found existing installation: pyparsing 3.1.0\n",
            "    Uninstalling pyparsing-3.1.0:\n",
            "      Successfully uninstalled pyparsing-3.1.0\n",
            "  Attempting uninstall: idna\n",
            "    Found existing installation: idna 3.4\n",
            "    Uninstalling idna-3.4:\n",
            "      Successfully uninstalled idna-3.4\n",
            "  Attempting uninstall: cycler\n",
            "    Found existing installation: cycler 0.11.0\n",
            "    Uninstalling cycler-0.11.0:\n",
            "      Successfully uninstalled cycler-0.11.0\n",
            "  Attempting uninstall: certifi\n",
            "    Found existing installation: certifi 2023.5.7\n",
            "    Uninstalling certifi-2023.5.7:\n",
            "      Successfully uninstalled certifi-2023.5.7\n",
            "Successfully installed certifi-2022.12.7 cycler-0.10.0 idna-2.10 pyparsing-2.4.7 python-dotenv-1.0.0 requests-toolbelt-1.0.0 roboflow-1.1.1 supervision-0.11.1 wget-3.2\n"
          ]
        },
        {
          "output_type": "display_data",
          "data": {
            "application/vnd.colab-display-data+json": {
              "pip_warning": {
                "packages": [
                  "certifi",
                  "cycler",
                  "idna",
                  "pyparsing"
                ]
              }
            }
          },
          "metadata": {}
        },
        {
          "output_type": "stream",
          "name": "stdout",
          "text": [
            "loading Roboflow workspace...\n",
            "loading Roboflow project...\n",
            "Downloading Dataset Version Zip in Formula-detector-9 to yolov8: 100% [114847623 / 114847623] bytes\n"
          ]
        },
        {
          "output_type": "stream",
          "name": "stderr",
          "text": [
            "Extracting Dataset Version Zip to Formula-detector-9 in yolov8:: 100%|██████████| 4928/4928 [00:02<00:00, 2324.00it/s]\n"
          ]
        }
      ]
    },
    {
      "cell_type": "markdown",
      "source": [
        "***Skip detection command\n",
        "(included in crating labels) ***"
      ],
      "metadata": {
        "id": "OGNCJLXOKDmg"
      }
    },
    {
      "cell_type": "markdown",
      "source": [
        "\n",
        "\n",
        "---\n",
        "\n",
        "Detection, creation of label files et segmentation to get bounding boxes"
      ],
      "metadata": {
        "id": "dnJWs00DOR2R"
      }
    },
    {
      "cell_type": "code",
      "source": [
        "!python3 /content/DLLFormula/segmentation/LabelsCreator.py EQ\n"
      ],
      "metadata": {
        "colab": {
          "base_uri": "https://localhost:8080/"
        },
        "id": "iS5MqXdDgdDe",
        "outputId": "3fb05ccb-044f-4efb-b2a6-c874f77f3171"
      },
      "execution_count": 7,
      "outputs": [
        {
          "output_type": "stream",
          "name": "stdout",
          "text": [
            "loading Roboflow workspace...\n",
            "loading Roboflow project...\n"
          ]
        }
      ]
    },
    {
      "cell_type": "code",
      "source": [
        "!python3 /content/DLLFormula/segmentation/segmentation_try3.py EQ"
      ],
      "metadata": {
        "id": "_ZJ54rh7OZWV",
        "colab": {
          "base_uri": "https://localhost:8080/"
        },
        "outputId": "f2d81e38-29f3-4ba2-a740-8b2e3e38b5e5"
      },
      "execution_count": 39,
      "outputs": [
        {
          "output_type": "stream",
          "name": "stdout",
          "text": [
            "Cropped images for frame0-00-00.00.jpg saved.\n",
            "Cropped images for frame0-00-02.50.jpg saved.\n",
            "Cropped images for frame0-00-05.00.jpg saved.\n",
            "Cropped images for frame0-00-07.51.jpg saved.\n",
            "Cropped images for frame0-00-10.01.jpg saved.\n",
            "Cropped images for frame0-00-12.51.jpg saved.\n",
            "Cropped images for frame0-00-15.02.jpg saved.\n",
            "Cropped images for frame0-00-17.52.jpg saved.\n",
            "Cropped images for frame0-00-20.02.jpg saved.\n",
            "Cropped images for frame0-00-22.52.jpg saved.\n",
            "Cropped images for frame0-00-25.02.jpg saved.\n",
            "Cropped images for frame0-00-27.53.jpg saved.\n",
            "Cropped images for frame0-00-30.03.jpg saved.\n",
            "Cropped images for frame0-00-32.53.jpg saved.\n",
            "Cropped images for frame0-00-34.20.jpg saved.\n",
            "Cropped images for frame0-00-36.70.jpg saved.\n",
            "Cropped images for frame0-00-39.21.jpg saved.\n",
            "Cropped images for frame0-00-41.71.jpg saved.\n",
            "Cropped images for frame0-00-44.21.jpg saved.\n",
            "Cropped images for frame0-00-46.71.jpg saved.\n",
            "Cropped images for frame0-00-49.22.jpg saved.\n",
            "Cropped images for frame0-00-51.72.jpg saved.\n",
            "Cropped images for frame0-00-54.22.jpg saved.\n",
            "Cropped images for frame0-00-56.72.jpg saved.\n",
            "Cropped images for frame0-00-59.23.jpg saved.\n",
            "Cropped images for frame0-01-01.73.jpg saved.\n",
            "Cropped images for frame0-01-04.23.jpg saved.\n",
            "Cropped images for frame0-01-06.73.jpg saved.\n",
            "Cropped images for frame0-01-08.40.jpg saved.\n",
            "Cropped images for frame0-01-10.90.jpg saved.\n",
            "Cropped images for frame0-01-13.41.jpg saved.\n",
            "Cropped images for frame0-01-15.91.jpg saved.\n",
            "Cropped images for frame0-01-18.41.jpg saved.\n",
            "Cropped images for frame0-01-20.91.jpg saved.\n",
            "Cropped images for frame0-01-23.42.jpg saved.\n",
            "Cropped images for frame0-01-25.92.jpg saved.\n",
            "Cropped images for frame0-01-28.42.jpg saved.\n",
            "Cropped images for frame0-01-30.92.jpg saved.\n",
            "Cropped images for frame0-01-33.43.jpg saved.\n",
            "Cropped images for frame0-01-35.93.jpg saved.\n",
            "Cropped images for frame0-01-38.43.jpg saved.\n",
            "Cropped images for frame0-01-40.10.jpg saved.\n",
            "Cropped images for frame0-01-42.60.jpg saved.\n",
            "Cropped images for frame0-01-45.10.jpg saved.\n",
            "Cropped images for frame0-01-47.61.jpg saved.\n",
            "Cropped images for frame0-01-50.11.jpg saved.\n",
            "Cropped images for frame0-01-52.61.jpg saved.\n",
            "Cropped images for frame0-01-55.12.jpg saved.\n",
            "Cropped images for frame0-01-57.62.jpg saved.\n",
            "Cropped images for frame0-02-00.12.jpg saved.\n",
            "Cropped images for frame0-02-02.62.jpg saved.\n",
            "Cropped images for frame0-02-05.12.jpg saved.\n",
            "Cropped images for frame0-02-07.63.jpg saved.\n",
            "Cropped images for frame0-02-10.13.jpg saved.\n",
            "Cropped images for frame0-02-12.63.jpg saved.\n",
            "Cropped images for frame0-02-14.30.jpg saved.\n",
            "Cropped images for frame0-02-16.80.jpg saved.\n",
            "Cropped images for frame0-02-19.31.jpg saved.\n",
            "Cropped images for frame0-02-21.81.jpg saved.\n",
            "Cropped images for frame0-02-24.31.jpg saved.\n",
            "Cropped images for frame0-02-26.81.jpg saved.\n",
            "Cropped images for frame0-02-29.32.jpg saved.\n",
            "Cropped images for frame0-02-31.82.jpg saved.\n",
            "Cropped images for frame0-02-34.32.jpg saved.\n",
            "Cropped images for frame0-02-36.82.jpg saved.\n",
            "Cropped images for frame0-02-39.33.jpg saved.\n",
            "Cropped images for frame0-02-41.83.jpg saved.\n",
            "Cropped images for frame0-02-44.33.jpg saved.\n",
            "Cropped images for frame0-02-46.83.jpg saved.\n",
            "Cropped images for frame0-02-48.50.jpg saved.\n",
            "Cropped images for frame0-02-51.00.jpg saved.\n",
            "Cropped images for frame0-02-53.51.jpg saved.\n",
            "Cropped images for frame0-02-56.01.jpg saved.\n",
            "Cropped images for frame0-02-58.51.jpg saved.\n",
            "Cropped images for frame0-03-01.01.jpg saved.\n",
            "Cropped images for frame0-03-03.52.jpg saved.\n",
            "Cropped images for frame0-03-06.02.jpg saved.\n",
            "Cropped images for frame0-03-08.52.jpg saved.\n",
            "Cropped images for frame0-03-11.02.jpg saved.\n",
            "Cropped images for frame0-03-13.53.jpg saved.\n",
            "Cropped images for frame0-03-16.03.jpg saved.\n",
            "Cropped images for frame0-03-18.53.jpg saved.\n",
            "Cropped images for frame0-03-20.20.jpg saved.\n",
            "Cropped images for frame0-03-22.70.jpg saved.\n",
            "Cropped images for frame0-03-25.20.jpg saved.\n",
            "Cropped images for frame0-03-27.71.jpg saved.\n",
            "Cropped images for frame0-03-30.21.jpg saved.\n",
            "Cropped images for frame0-03-32.71.jpg saved.\n",
            "Cropped images for frame0-03-35.22.jpg saved.\n",
            "Cropped images for frame0-03-37.72.jpg saved.\n",
            "Cropped images for frame0-03-40.22.jpg saved.\n",
            "Cropped images for frame0-03-42.72.jpg saved.\n",
            "Cropped images for frame0-03-45.22.jpg saved.\n",
            "Cropped images for frame0-03-47.73.jpg saved.\n",
            "Cropped images for frame0-03-50.23.jpg saved.\n",
            "Cropped images for frame0-03-52.73.jpg saved.\n",
            "Cropped images for frame0-03-54.40.jpg saved.\n",
            "Cropped images for frame0-03-56.90.jpg saved.\n",
            "Cropped images for frame0-03-59.41.jpg saved.\n",
            "Cropped images for frame0-04-01.91.jpg saved.\n",
            "Cropped images for frame0-04-04.41.jpg saved.\n",
            "Cropped images for frame0-04-06.91.jpg saved.\n",
            "Cropped images for frame0-04-09.42.jpg saved.\n",
            "Cropped images for frame0-04-11.92.jpg saved.\n",
            "Cropped images for frame0-04-14.42.jpg saved.\n",
            "Cropped images for frame0-04-16.92.jpg saved.\n",
            "Cropped images for frame0-04-19.43.jpg saved.\n",
            "Cropped images for frame0-04-21.93.jpg saved.\n",
            "Cropped images for frame0-04-24.43.jpg saved.\n",
            "Cropped images for frame0-04-26.93.jpg saved.\n",
            "Cropped images for frame0-04-28.60.jpg saved.\n",
            "Cropped images for frame0-04-31.10.jpg saved.\n",
            "Cropped images for frame0-04-33.61.jpg saved.\n",
            "Cropped images for frame0-04-36.11.jpg saved.\n",
            "Cropped images for frame0-04-38.61.jpg saved.\n",
            "Cropped images for frame0-04-41.11.jpg saved.\n",
            "Cropped images for frame0-04-43.62.jpg saved.\n",
            "Cropped images for frame0-04-46.12.jpg saved.\n",
            "Cropped images for frame0-04-48.62.jpg saved.\n",
            "Cropped images for frame0-04-51.12.jpg saved.\n",
            "Cropped images for frame0-04-53.63.jpg saved.\n",
            "Cropped images for frame0-04-56.13.jpg saved.\n",
            "Cropped images for frame0-04-58.63.jpg saved.\n",
            "Cropped images for frame0-05-00.30.jpg saved.\n",
            "Cropped images for frame0-05-02.80.jpg saved.\n",
            "Cropped images for frame0-05-05.30.jpg saved.\n",
            "Cropped images for frame0-05-07.81.jpg saved.\n",
            "Cropped images for frame0-05-10.31.jpg saved.\n",
            "Cropped images for frame0-05-12.81.jpg saved.\n",
            "Cropped images for frame0-05-15.32.jpg saved.\n",
            "Cropped images for frame0-05-17.82.jpg saved.\n",
            "Cropped images for frame0-05-20.32.jpg saved.\n",
            "Cropped images for frame0-05-22.82.jpg saved.\n",
            "Cropped images for frame0-05-25.32.jpg saved.\n",
            "Cropped images for frame0-05-27.83.jpg saved.\n",
            "Cropped images for frame0-05-30.33.jpg saved.\n",
            "Cropped images for frame0-05-32.83.jpg saved.\n",
            "Cropped images for frame0-05-34.50.jpg saved.\n",
            "Cropped images for frame0-05-37.00.jpg saved.\n",
            "Cropped images for frame0-05-39.51.jpg saved.\n",
            "Cropped images for frame0-05-42.01.jpg saved.\n",
            "Cropped images for frame0-05-44.51.jpg saved.\n",
            "Cropped images for frame0-05-47.01.jpg saved.\n",
            "Cropped images for frame0-05-49.52.jpg saved.\n",
            "Cropped images for frame0-05-52.02.jpg saved.\n",
            "Cropped images for frame0-05-54.52.jpg saved.\n",
            "Cropped images for frame0-05-57.02.jpg saved.\n",
            "Cropped images for frame0-05-59.53.jpg saved.\n",
            "Cropped images for frame0-06-02.03.jpg saved.\n",
            "Cropped images for frame0-06-04.53.jpg saved.\n",
            "Cropped images for frame0-06-07.03.jpg saved.\n",
            "Cropped images for frame0-06-08.70.jpg saved.\n",
            "Cropped images for frame0-06-11.20.jpg saved.\n",
            "Cropped images for frame0-06-13.71.jpg saved.\n",
            "Cropped images for frame0-06-16.21.jpg saved.\n",
            "Cropped images for frame0-06-18.71.jpg saved.\n",
            "Cropped images for frame0-06-21.21.jpg saved.\n",
            "Cropped images for frame0-06-23.72.jpg saved.\n",
            "Cropped images for frame0-06-26.22.jpg saved.\n",
            "Cropped images for frame0-06-28.72.jpg saved.\n",
            "Cropped images for frame0-06-31.22.jpg saved.\n",
            "Cropped images for frame0-06-33.73.jpg saved.\n",
            "Cropped images for frame0-06-36.23.jpg saved.\n",
            "Cropped images for frame0-06-38.73.jpg saved.\n",
            "Cropped images for frame0-06-40.40.jpg saved.\n",
            "Cropped images for frame0-06-42.90.jpg saved.\n",
            "Cropped images for frame0-06-45.40.jpg saved.\n",
            "Cropped images for frame0-06-47.91.jpg saved.\n",
            "Cropped images for frame0-06-50.41.jpg saved.\n",
            "Cropped images for frame0-06-52.91.jpg saved.\n",
            "Cropped images for frame0-06-55.42.jpg saved.\n",
            "Cropped images for frame0-06-57.92.jpg saved.\n",
            "Cropped images for frame0-07-00.42.jpg saved.\n",
            "Cropped images for frame0-07-02.92.jpg saved.\n",
            "Cropped images for frame0-07-05.42.jpg saved.\n",
            "Cropped images for frame0-07-07.93.jpg saved.\n",
            "Cropped images for frame0-07-10.43.jpg saved.\n",
            "Cropped images for frame0-07-12.93.jpg saved.\n",
            "Cropped images for frame0-07-14.60.jpg saved.\n",
            "Cropped images for frame0-07-17.10.jpg saved.\n",
            "Cropped images for frame0-07-19.61.jpg saved.\n",
            "Cropped images for frame0-07-22.11.jpg saved.\n",
            "Cropped images for frame0-07-24.61.jpg saved.\n",
            "Cropped images for frame0-07-27.11.jpg saved.\n",
            "Cropped images for frame0-07-29.62.jpg saved.\n",
            "Cropped images for frame0-07-32.12.jpg saved.\n",
            "Cropped images for frame0-07-34.62.jpg saved.\n",
            "Cropped images for frame0-07-37.12.jpg saved.\n",
            "Cropped images for frame0-07-39.63.jpg saved.\n",
            "Cropped images for frame0-07-42.13.jpg saved.\n",
            "Cropped images for frame0-07-44.63.jpg saved.\n",
            "Cropped images for frame0-07-47.13.jpg saved.\n",
            "Cropped images for frame0-07-48.80.jpg saved.\n",
            "Cropped images for frame0-07-51.30.jpg saved.\n",
            "Cropped images for frame0-07-53.81.jpg saved.\n",
            "Cropped images for frame0-07-56.31.jpg saved.\n",
            "Cropped images for frame0-07-58.81.jpg saved.\n",
            "Cropped images for frame0-08-01.31.jpg saved.\n",
            "Cropped images for frame0-08-03.82.jpg saved.\n",
            "Cropped images for frame0-08-06.32.jpg saved.\n",
            "Cropped images for frame0-08-08.82.jpg saved.\n",
            "Cropped images for frame0-08-11.32.jpg saved.\n",
            "Cropped images for frame0-08-13.83.jpg saved.\n",
            "Cropped images for frame0-08-16.33.jpg saved.\n",
            "Cropped images for frame0-08-18.83.jpg saved.\n",
            "Cropped images for frame0-08-20.50.jpg saved.\n",
            "Cropped images for frame0-08-23.00.jpg saved.\n",
            "Cropped images for frame0-08-25.50.jpg saved.\n",
            "Cropped images for frame0-08-28.01.jpg saved.\n",
            "Cropped images for frame0-08-30.51.jpg saved.\n",
            "Cropped images for frame0-08-33.01.jpg saved.\n",
            "Cropped images for frame0-08-35.52.jpg saved.\n",
            "Cropped images for frame0-08-38.02.jpg saved.\n",
            "Cropped images for frame0-08-40.52.jpg saved.\n",
            "Cropped images for frame0-08-43.02.jpg saved.\n",
            "Cropped images for frame0-08-45.52.jpg saved.\n",
            "Cropped images for frame0-08-48.03.jpg saved.\n",
            "Cropped images for frame0-08-50.53.jpg saved.\n",
            "Cropped images for frame0-08-53.03.jpg saved.\n",
            "Cropped images for frame0-08-54.70.jpg saved.\n",
            "Cropped images for frame0-08-57.20.jpg saved.\n",
            "Cropped images for frame0-08-59.71.jpg saved.\n",
            "Cropped images for frame0-09-02.21.jpg saved.\n",
            "Cropped images for frame0-09-04.71.jpg saved.\n",
            "Cropped images for frame0-09-07.21.jpg saved.\n",
            "Cropped images for frame0-09-09.72.jpg saved.\n",
            "Cropped images for frame0-09-12.22.jpg saved.\n",
            "Cropped images for frame0-09-14.72.jpg saved.\n",
            "Cropped images for frame0-09-17.22.jpg saved.\n",
            "Cropped images for frame0-09-19.73.jpg saved.\n",
            "Cropped images for frame0-09-22.23.jpg saved.\n",
            "Cropped images for frame0-09-24.73.jpg saved.\n",
            "Cropped images for frame0-09-27.23.jpg saved.\n",
            "Cropped images for frame0-09-28.90.jpg saved.\n",
            "Cropped images for frame0-09-31.40.jpg saved.\n",
            "Cropped images for frame0-09-33.91.jpg saved.\n",
            "Cropped images for frame0-09-36.41.jpg saved.\n",
            "Cropped images for frame0-09-38.91.jpg saved.\n",
            "Cropped images for frame0-09-41.41.jpg saved.\n",
            "Cropped images for frame0-09-43.92.jpg saved.\n",
            "Cropped images for frame0-09-46.42.jpg saved.\n",
            "Cropped images for frame0-09-48.92.jpg saved.\n",
            "Cropped images for frame0-09-51.42.jpg saved.\n",
            "Cropped images for frame0-09-53.93.jpg saved.\n",
            "Cropped images for frame0-09-56.43.jpg saved.\n",
            "Cropped images for frame0-09-58.93.jpg saved.\n",
            "Cropped images for frame0-10-00.60.jpg saved.\n",
            "Cropped images for frame0-10-03.10.jpg saved.\n",
            "Cropped images for frame0-10-05.60.jpg saved.\n",
            "Cropped images for frame0-10-08.11.jpg saved.\n",
            "Cropped images for frame0-10-10.61.jpg saved.\n",
            "Cropped images for frame0-10-13.11.jpg saved.\n",
            "Cropped images for frame0-10-15.62.jpg saved.\n",
            "Cropped images for frame0-10-18.12.jpg saved.\n",
            "Cropped images for frame0-10-20.62.jpg saved.\n",
            "Cropped images for frame0-10-23.12.jpg saved.\n",
            "Cropped images for frame0-10-25.62.jpg saved.\n",
            "Cropped images for frame0-10-28.13.jpg saved.\n",
            "Cropped images for frame0-10-30.63.jpg saved.\n",
            "Cropped images for frame0-10-33.13.jpg saved.\n",
            "Cropped images for frame0-10-34.80.jpg saved.\n",
            "Cropped images for frame0-10-37.30.jpg saved.\n",
            "Cropped images for frame0-10-39.81.jpg saved.\n",
            "Cropped images for frame0-10-42.31.jpg saved.\n",
            "Cropped images for frame0-10-44.81.jpg saved.\n",
            "Cropped images for frame0-10-47.31.jpg saved.\n",
            "Cropped images for frame0-10-49.82.jpg saved.\n",
            "Cropped images for frame0-10-52.32.jpg saved.\n",
            "Cropped images for frame0-10-54.82.jpg saved.\n",
            "Cropped images for frame0-10-57.32.jpg saved.\n",
            "Cropped images for frame0-10-59.83.jpg saved.\n",
            "Cropped images for frame0-11-02.33.jpg saved.\n",
            "Cropped images for frame0-11-04.83.jpg saved.\n",
            "All frames processed.\n"
          ]
        }
      ]
    },
    {
      "cell_type": "markdown",
      "source": [
        "\n",
        "\n",
        "---\n",
        "**Conversion** : cf latex ocr test notebook\n"
      ],
      "metadata": {
        "id": "4zv07XB0LNJm"
      }
    },
    {
      "cell_type": "code",
      "source": [
        "#it's ok if it gives version error , execute twice tho\n",
        "\n",
        "!pip show pillow\n",
        "%reload_ext autoreload\n",
        "%autoreload\n",
        "import PIL\n",
        "!pip install Pillow -U -qq\n",
        "\n",
        "\n",
        "!pip install pix2tex -qq\n",
        "!pip install opencv-python-headless==4.1.2.30 -U -qq"
      ],
      "metadata": {
        "id": "O70IsiEYLXaI",
        "colab": {
          "base_uri": "https://localhost:8080/"
        },
        "outputId": "15091338-da43-40a9-8ac3-e26c1201e48f"
      },
      "execution_count": 40,
      "outputs": [
        {
          "output_type": "stream",
          "name": "stdout",
          "text": [
            "Name: Pillow\n",
            "Version: 10.0.0\n",
            "Summary: Python Imaging Library (Fork)\n",
            "Home-page: https://python-pillow.org\n",
            "Author: Jeffrey A. Clark (Alex)\n",
            "Author-email: aclark@aclark.net\n",
            "License: HPND\n",
            "Location: /usr/local/lib/python3.10/dist-packages\n",
            "Requires: \n",
            "Required-by: bokeh, dopamine-rl, fastai, imageio, imgaug, matplotlib, pix2tex, roboflow, scikit-image, torchvision, ultralytics, wordcloud\n",
            "\u001b[31mERROR: Could not find a version that satisfies the requirement opencv-python-headless==4.1.2.30 (from versions: 3.4.10.37, 3.4.11.39, 3.4.11.41, 3.4.11.43, 3.4.11.45, 3.4.13.47, 3.4.15.55, 3.4.16.59, 3.4.17.61, 3.4.17.63, 3.4.18.65, 4.3.0.38, 4.4.0.40, 4.4.0.42, 4.4.0.44, 4.4.0.46, 4.5.1.48, 4.5.3.56, 4.5.4.58, 4.5.4.60, 4.5.5.62, 4.5.5.64, 4.6.0.66, 4.7.0.68, 4.7.0.72, 4.8.0.74)\u001b[0m\u001b[31m\n",
            "\u001b[0m\u001b[31mERROR: No matching distribution found for opencv-python-headless==4.1.2.30\u001b[0m\u001b[31m\n",
            "\u001b[0m"
          ]
        }
      ]
    },
    {
      "cell_type": "markdown",
      "source": [
        "link to ocr test https://colab.research.google.com/drive/1_ZZGCOw6yTxwppcJliPmPK1VAbNnay0b?authuser=1#scrollTo=CjrR3O07u3uH"
      ],
      "metadata": {
        "id": "eOl8Oe_acWSa"
      }
    },
    {
      "cell_type": "code",
      "source": [
        "!python3 /content/DLLFormula/segmentation/latex.py EQ"
      ],
      "metadata": {
        "colab": {
          "base_uri": "https://localhost:8080/"
        },
        "id": "RF28ZYXIYKQn",
        "outputId": "132e990c-c768-4977-e0da-d688e6c7122b"
      },
      "execution_count": 44,
      "outputs": [
        {
          "output_type": "stream",
          "name": "stdout",
          "text": [
            "<IPython.core.display.HTML object>\n",
            "/content/DLLFormula/datasets/runs/boxes/EQ/frame0-01-18.41_0.jpg\n",
            "x^{\\prime}=\\sin(t x),\\;x_{*}^{\\prime}=t^{2}+x^{2}\n",
            "/content/DLLFormula/datasets/runs/boxes/EQ/frame0-01-20.91_2.jpg\n",
            "x:I\\longrightarrow E\n",
            "<IPython.core.display.Math object>\n",
            "Formulas saved to: output_formulas.tex\n"
          ]
        }
      ]
    },
    {
      "cell_type": "markdown",
      "source": [
        "Améliorer l'output"
      ],
      "metadata": {
        "id": "lGTcBIbKlgNt"
      }
    }
  ]
}